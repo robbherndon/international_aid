{
 "cells": [
  {
   "cell_type": "code",
   "execution_count": 1,
   "id": "c2debfd8",
   "metadata": {},
   "outputs": [],
   "source": [
    "import pandas as pd\n",
    "import numpy as np\n",
    "import matplotlib.pyplot as plt"
   ]
  },
  {
   "cell_type": "markdown",
   "id": "970720bf",
   "metadata": {},
   "source": [
    "## Dictionaries"
   ]
  },
  {
   "cell_type": "code",
   "execution_count": null,
   "id": "4dc9914c",
   "metadata": {},
   "outputs": [],
   "source": [
    "comm_names = {\n",
    "    'Manager Community 7':'Thomassique Community Manager',\n",
    "    'Entrepreneur Community 7':'Thomassique Entrepreneur Community'\n",
    "    'Manager Community 8':'Cerca-la-Source Community Manager',\n",
    "    'Entrepreneur Community 8':'Cerca-la-Source Entrepreneur Community',\n",
    "    'Manager Community 9':'Mombin Crochus Community Manager',\n",
    "    'Entrepreneur Community 9':'Mombin Crochus Entrepreneur Community',\n",
    "    'Manager Community 10':'Pignon Community Manager',\n",
    "    'Entrepreneur Community 10':'Pignon Entrepreneur Community',\n",
    "    'Manager Community 11':'Lavictoire Community Manager',\n",
    "    'Entrepreneur Community 11':'Lavictoire Entrepreneur Community',\n",
    "    'Manager Community 12':'Hinche Community Manager',\n",
    "    'Entrepreneur Community 12':'Hinche Entrepreneur Community',\n",
    "    'Manager Community 13':'Cerca-Carvajal Community Manager',\n",
    "    'Entrepreneur Community 13':'Cerca-Carvajal Entrepreneur Community',\n",
    "    'Manager Community 14':'St-Raphael Community Manager',\n",
    "    'Entrepreneur Community 14':'St-Raphael Entrepreneur Community',\n",
    "    'Manager Community 15':'St.Michel Community Manager',\n",
    "    'Entrepreneur Community 15':'St.Michel Entrepreneur Community',\n",
    "    'Manager Community 16':'Bois De Lorence Community Manager',\n",
    "    'Entrepreneur Community 16':'Bois De Lorence Entrepreneur Community',\n",
    "    'Manager Community 18':'Lascahobas Community Manager',\n",
    "    'Entrepreneur Community 18':'Lascahobas Entrepreneur Community',\n",
    "    'Manager Community 19':'Dondon Community Manager',\n",
    "    'Entrepreneur Community 19':'Dondon Entrepreneur Community',\n",
    "    'Manager Community 20':'Ranquitte Community Manager',\n",
    "    'Entrepreneur Community 20':'Ranquitte Entrepreneur Community',\n",
    "    'Manager Community 21':'Jean Denis Community Manager',\n",
    "    'Entrepreneur Community 21':'Jean Denis Entrepreneur Community',\n",
    "    'Manager Community 22':'Deschapelle Community Manager',\n",
    "    'Entrepreneur Community 22':'Deschapelle Entrepreneur Community',\n",
    "    'Manager Community 23':'Marmelade Community Manager',\n",
    "    'Entrepreneur Community 23':'Marmelade Entrepreneur Community',\n",
    "    'Manager Community 25':'Ouanaminthe Community Manager',\n",
    "    'Entrepreneur Community 25':'Ouanaminthe Entrepreneur Community'\n",
    "    'Manager Community 26':'Saltadère Community Manager',\n",
    "    'Entrepreneur Community 26':'Saltadère Entrepreneur Community',\n",
    "    'Manager Community 28':'Limonade Community Manager',\n",
    "    'Entrepreneur Community 28':'Limonade Entrepreneur Community',\n",
    "    'Manager Community 29':'Quartier-morin Community Manager',\n",
    "    'Entrepreneur Community 29':'Quartier-morin Entrepreneur Community',\n",
    "    'Manager Community 30':'Plaine du nord Community Manager',\n",
    "    'Entrepreneur Community 30':'Plaine du nord Entrepreneur Community',\n",
    "    'Manager Community 32':'Grande Rivière du Nord Community Manager',\n",
    "    'Entreprneuer Community 32':'Grande Rivière du Nord Entrepreneur Community',\n",
    "    'Manager Community 33':'Bas-Limbé Community Manager',\n",
    "    'Entreprneuer Community 33':'Bas-Limbé Entrepreneur Community',\n",
    "    'Manager Community 34':'Mont-Organisé Community Manager',\n",
    "    'Entreprneuer Community 34':'Mont-Organisé Entrepreneur Community',\n",
    "    'Manager Community 35':'Vallières Community Manager',\n",
    "    'Entreprneuer Community 35':'Vallières Entrepreneur Community',\n",
    "    'Manager Community 36':'Gonaïves Community Manager'\n",
    "    'Entreprneuer Community 36':'Gonaïves Entrepreneur Community',\n",
    "    'Manager Community 37':'Bahon Community Manager',\n",
    "    'Entreprneuer Community 37':'Bahon Entrepreneur Community'\n",
    "}"
   ]
  },
  {
   "cell_type": "code",
   "execution_count": null,
   "id": "f2b5c91b",
   "metadata": {},
   "outputs": [],
   "source": [
    "manager_id = {\n",
    "    'Manager Community 8':'m',\n",
    "    'Entrepreneur Community 8':'e',\n",
    "    'Manager Community 9':'m',\n",
    "    'Entrepreneur Community 9':'e',\n",
    "    'Manager Community 10':'m',\n",
    "    'Entrepreneur Community 10':'e',\n",
    "    'Manager Community 11':'m',\n",
    "    'Entrepreneur Community 11':'e',\n",
    "    'Manager Community 12':'m',\n",
    "    'Entrepreneur Community 12':'e',\n",
    "    'Manager Community 13':'m',\n",
    "    'Entrepreneur Community 13':'e',\n",
    "    'Manager Community 14':'m',\n",
    "    'Entrepreneur Community 14':'e',\n",
    "    'Manager Community 15':'m',\n",
    "    'Entrepreneur Community 15':'e',\n",
    "    'Manager Community 16':'m',\n",
    "    'Entrepreneur Community 16':'e',\n",
    "    'Manager Community 18':'m',\n",
    "    'Entrepreneur Community 18':'e',\n",
    "    'Manager Community 19':'m',\n",
    "    'Entrepreneur Community 19':'e',\n",
    "    'Manager Community 20':'m',\n",
    "    'Entrepreneur Community 20':'e',\n",
    "    'Manager Community 21':'m',\n",
    "    'Entrepreneur Community 21':'e',\n",
    "    'Manager Community 22':'m',\n",
    "    'Entrepreneur Community 22':'e',\n",
    "    'Manager Community 23':'m',\n",
    "    'Entrepreneur Community 23':'e',\n",
    "    'Manager Community 25':'m',\n",
    "    'Entrepreneur Community 25':'e'\n",
    "    'Manager Community 26':'m',\n",
    "    'Entrepreneur Community 26':'e',\n",
    "    'Manager Community 28':'m',\n",
    "    'Entrepreneur Community 28':'e',\n",
    "    'Manager Community 29':'m',\n",
    "    'Entrepreneur Community 29':'e',\n",
    "    'Manager Community 30':'m',\n",
    "    'Entrepreneur Community 30':'e',\n",
    "    'Manager Community 32':'m',\n",
    "    'Entreprneuer Community 32':'e',\n",
    "    'Manager Community 33':'m',\n",
    "    'Entreprneuer Community 33':'e',\n",
    "    'Manager Community 34':'m',\n",
    "    'Entreprneuer Community 34':'e',\n",
    "    'Manager Community 35':'m',\n",
    "    'Entreprneuer Community 35':'e',\n",
    "    'Manager Community 36':'m'\n",
    "    'Entreprneuer Community 36':'e',\n",
    "    'Manager Community 37':'m',\n",
    "    'Entreprneuer Community 37':'e'\n",
    "}"
   ]
  },
  {
   "cell_type": "code",
   "execution_count": null,
   "id": "10792c65",
   "metadata": {},
   "outputs": [],
   "source": [
    "col_names = {\n",
    "    \n",
    "}"
   ]
  },
  {
   "cell_type": "markdown",
   "id": "3ad13dc9",
   "metadata": {},
   "source": [
    "## Sales Dataframe"
   ]
  },
  {
   "cell_type": "code",
   "execution_count": 2,
   "id": "1e783b7b",
   "metadata": {},
   "outputs": [],
   "source": [
    "sales = pd.read_csv('../data/Trans_TWSupport Sale w. Cash Discount (v15)_1_935.csv')\n"
   ]
  },
  {
   "cell_type": "code",
   "execution_count": 3,
   "id": "e0c20e23",
   "metadata": {},
   "outputs": [
    {
     "data": {
      "text/html": [
       "<div>\n",
       "<style scoped>\n",
       "    .dataframe tbody tr th:only-of-type {\n",
       "        vertical-align: middle;\n",
       "    }\n",
       "\n",
       "    .dataframe tbody tr th {\n",
       "        vertical-align: top;\n",
       "    }\n",
       "\n",
       "    .dataframe thead th {\n",
       "        text-align: right;\n",
       "    }\n",
       "</style>\n",
       "<table border=\"1\" class=\"dataframe\">\n",
       "  <thead>\n",
       "    <tr style=\"text-align: right;\">\n",
       "      <th></th>\n",
       "      <th>startDate</th>\n",
       "      <th>endDate</th>\n",
       "      <th>Date</th>\n",
       "      <th>gps x</th>\n",
       "      <th>gps y</th>\n",
       "      <th>Mobile User</th>\n",
       "      <th>non_acht</th>\n",
       "      <th>siyati_acht_a</th>\n",
       "      <th>telefon_natcom_acht_a</th>\n",
       "      <th>buyers_natcom_phone_number_buyers_digice</th>\n",
       "      <th>...</th>\n",
       "      <th>kontra_foto</th>\n",
       "      <th>nimewo_nontra_1</th>\n",
       "      <th>kod_pwodwi_a</th>\n",
       "      <th>cash_discount_1</th>\n",
       "      <th>are_you_going_to_pay_in_full_now</th>\n",
       "      <th>loan_name</th>\n",
       "      <th>deposit_amount_expected</th>\n",
       "      <th>montan_depoze_deposit_amount</th>\n",
       "      <th>payment_expected</th>\n",
       "      <th>cash_payment_amount</th>\n",
       "    </tr>\n",
       "  </thead>\n",
       "  <tbody>\n",
       "    <tr>\n",
       "      <th>1</th>\n",
       "      <td>2022-01-12 11:06:28-0600</td>\n",
       "      <td>2022-01-12 11:06:45-0600</td>\n",
       "      <td>2022-01-12</td>\n",
       "      <td>NaN</td>\n",
       "      <td>NaN</td>\n",
       "      <td>UC TaroWorks Admin</td>\n",
       "      <td>S</td>\n",
       "      <td>S</td>\n",
       "      <td>NaN</td>\n",
       "      <td>NaN</td>\n",
       "      <td>...</td>\n",
       "      <td>NaN</td>\n",
       "      <td>NaN</td>\n",
       "      <td>NaN</td>\n",
       "      <td>Si ou peye an plen lajan kach, ou pral resevwa...</td>\n",
       "      <td>Wi / Yes</td>\n",
       "      <td>S - Antreprenè Sistèm Filtraj ak Pye / Entrepr...</td>\n",
       "      <td>NaN</td>\n",
       "      <td>NaN</td>\n",
       "      <td>2900.0</td>\n",
       "      <td>2900.0</td>\n",
       "    </tr>\n",
       "    <tr>\n",
       "      <th>2</th>\n",
       "      <td>2022-01-12 11:08:42-0600</td>\n",
       "      <td>2022-01-12 11:10:28-0600</td>\n",
       "      <td>2022-01-12</td>\n",
       "      <td>NaN</td>\n",
       "      <td>NaN</td>\n",
       "      <td>Fenson Cherenfant</td>\n",
       "      <td>Markenson</td>\n",
       "      <td>Toussaint</td>\n",
       "      <td>40573348</td>\n",
       "      <td>NaN</td>\n",
       "      <td>...</td>\n",
       "      <td>https://unlockingcommunities.my.salesforce.com...</td>\n",
       "      <td>01627</td>\n",
       "      <td>6473</td>\n",
       "      <td>Si ou peye an plen lajan kach, ou pral resevwa...</td>\n",
       "      <td>Wi / Yes</td>\n",
       "      <td>Toussaint  - Antreprenè Sistèm Filtraj ak Pye ...</td>\n",
       "      <td>NaN</td>\n",
       "      <td>NaN</td>\n",
       "      <td>2900.0</td>\n",
       "      <td>2900.0</td>\n",
       "    </tr>\n",
       "    <tr>\n",
       "      <th>3</th>\n",
       "      <td>2022-01-12 11:15:31-0600</td>\n",
       "      <td>2022-01-12 11:17:01-0600</td>\n",
       "      <td>2022-01-12</td>\n",
       "      <td>NaN</td>\n",
       "      <td>NaN</td>\n",
       "      <td>Fenson Cherenfant</td>\n",
       "      <td>Ghislaine</td>\n",
       "      <td>Myrthil</td>\n",
       "      <td>43564343</td>\n",
       "      <td>NaN</td>\n",
       "      <td>...</td>\n",
       "      <td>https://unlockingcommunities.my.salesforce.com...</td>\n",
       "      <td>01625</td>\n",
       "      <td>6427</td>\n",
       "      <td>Si ou peye an plen lajan kach, ou pral resevwa...</td>\n",
       "      <td>Wi / Yes</td>\n",
       "      <td>Myrthil - Antreprenè Sistèm Filtraj ak Pye / E...</td>\n",
       "      <td>NaN</td>\n",
       "      <td>NaN</td>\n",
       "      <td>2900.0</td>\n",
       "      <td>2900.0</td>\n",
       "    </tr>\n",
       "    <tr>\n",
       "      <th>4</th>\n",
       "      <td>2022-01-12 11:17:45-0600</td>\n",
       "      <td>2022-01-12 11:19:08-0600</td>\n",
       "      <td>2022-01-12</td>\n",
       "      <td>NaN</td>\n",
       "      <td>NaN</td>\n",
       "      <td>Fenson Cherenfant</td>\n",
       "      <td>Nastal</td>\n",
       "      <td>Gabriel</td>\n",
       "      <td>35235271</td>\n",
       "      <td>NaN</td>\n",
       "      <td>...</td>\n",
       "      <td>https://unlockingcommunities.my.salesforce.com...</td>\n",
       "      <td>01626</td>\n",
       "      <td>6426</td>\n",
       "      <td>Si ou peye an plen lajan kach, ou pral resevwa...</td>\n",
       "      <td>Wi / Yes</td>\n",
       "      <td>Gabriel - Antreprenè Sistèm Filtraj ak Pye / E...</td>\n",
       "      <td>NaN</td>\n",
       "      <td>NaN</td>\n",
       "      <td>2900.0</td>\n",
       "      <td>2900.0</td>\n",
       "    </tr>\n",
       "    <tr>\n",
       "      <th>5</th>\n",
       "      <td>2022-01-12 11:19:47-0600</td>\n",
       "      <td>2022-01-12 11:20:49-0600</td>\n",
       "      <td>2022-01-12</td>\n",
       "      <td>NaN</td>\n",
       "      <td>NaN</td>\n",
       "      <td>Fenson Cherenfant</td>\n",
       "      <td>Sonias</td>\n",
       "      <td>Toussaint</td>\n",
       "      <td>42860885</td>\n",
       "      <td>NaN</td>\n",
       "      <td>...</td>\n",
       "      <td>https://unlockingcommunities.my.salesforce.com...</td>\n",
       "      <td>01621</td>\n",
       "      <td>6623</td>\n",
       "      <td>Si ou peye an plen lajan kach, ou pral resevwa...</td>\n",
       "      <td>Wi / Yes</td>\n",
       "      <td>Toussaint  - Antreprenè Sistèm Filtraj ak Pye ...</td>\n",
       "      <td>NaN</td>\n",
       "      <td>NaN</td>\n",
       "      <td>2900.0</td>\n",
       "      <td>2900.0</td>\n",
       "    </tr>\n",
       "  </tbody>\n",
       "</table>\n",
       "<p>5 rows × 44 columns</p>\n",
       "</div>"
      ],
      "text/plain": [
       "0                 startDate                   endDate        Date gps x gps y  \\\n",
       "1  2022-01-12 11:06:28-0600  2022-01-12 11:06:45-0600  2022-01-12   NaN   NaN   \n",
       "2  2022-01-12 11:08:42-0600  2022-01-12 11:10:28-0600  2022-01-12   NaN   NaN   \n",
       "3  2022-01-12 11:15:31-0600  2022-01-12 11:17:01-0600  2022-01-12   NaN   NaN   \n",
       "4  2022-01-12 11:17:45-0600  2022-01-12 11:19:08-0600  2022-01-12   NaN   NaN   \n",
       "5  2022-01-12 11:19:47-0600  2022-01-12 11:20:49-0600  2022-01-12   NaN   NaN   \n",
       "\n",
       "0         Mobile User   non_acht siyati_acht_a telefon_natcom_acht_a  \\\n",
       "1  UC TaroWorks Admin          S             S                   NaN   \n",
       "2   Fenson Cherenfant  Markenson     Toussaint              40573348   \n",
       "3   Fenson Cherenfant  Ghislaine       Myrthil              43564343   \n",
       "4   Fenson Cherenfant     Nastal       Gabriel              35235271   \n",
       "5   Fenson Cherenfant     Sonias     Toussaint              42860885   \n",
       "\n",
       "0 buyers_natcom_phone_number_buyers_digice  ...  \\\n",
       "1                                      NaN  ...   \n",
       "2                                      NaN  ...   \n",
       "3                                      NaN  ...   \n",
       "4                                      NaN  ...   \n",
       "5                                      NaN  ...   \n",
       "\n",
       "0                                        kontra_foto nimewo_nontra_1  \\\n",
       "1                                                NaN             NaN   \n",
       "2  https://unlockingcommunities.my.salesforce.com...           01627   \n",
       "3  https://unlockingcommunities.my.salesforce.com...           01625   \n",
       "4  https://unlockingcommunities.my.salesforce.com...           01626   \n",
       "5  https://unlockingcommunities.my.salesforce.com...           01621   \n",
       "\n",
       "0 kod_pwodwi_a                                    cash_discount_1  \\\n",
       "1          NaN  Si ou peye an plen lajan kach, ou pral resevwa...   \n",
       "2         6473  Si ou peye an plen lajan kach, ou pral resevwa...   \n",
       "3         6427  Si ou peye an plen lajan kach, ou pral resevwa...   \n",
       "4         6426  Si ou peye an plen lajan kach, ou pral resevwa...   \n",
       "5         6623  Si ou peye an plen lajan kach, ou pral resevwa...   \n",
       "\n",
       "0 are_you_going_to_pay_in_full_now  \\\n",
       "1                         Wi / Yes   \n",
       "2                         Wi / Yes   \n",
       "3                         Wi / Yes   \n",
       "4                         Wi / Yes   \n",
       "5                         Wi / Yes   \n",
       "\n",
       "0                                          loan_name deposit_amount_expected  \\\n",
       "1  S - Antreprenè Sistèm Filtraj ak Pye / Entrepr...                     NaN   \n",
       "2  Toussaint  - Antreprenè Sistèm Filtraj ak Pye ...                     NaN   \n",
       "3  Myrthil - Antreprenè Sistèm Filtraj ak Pye / E...                     NaN   \n",
       "4  Gabriel - Antreprenè Sistèm Filtraj ak Pye / E...                     NaN   \n",
       "5  Toussaint  - Antreprenè Sistèm Filtraj ak Pye ...                     NaN   \n",
       "\n",
       "0 montan_depoze_deposit_amount payment_expected cash_payment_amount  \n",
       "1                          NaN           2900.0              2900.0  \n",
       "2                          NaN           2900.0              2900.0  \n",
       "3                          NaN           2900.0              2900.0  \n",
       "4                          NaN           2900.0              2900.0  \n",
       "5                          NaN           2900.0              2900.0  \n",
       "\n",
       "[5 rows x 44 columns]"
      ]
     },
     "execution_count": 3,
     "metadata": {},
     "output_type": "execute_result"
    }
   ],
   "source": [
    "sales.columns = sales.iloc[0]\n",
    "sales = sales.iloc[1:, :]\n",
    "sales.head()"
   ]
  },
  {
   "cell_type": "code",
   "execution_count": 4,
   "id": "f7976e93",
   "metadata": {},
   "outputs": [
    {
     "data": {
      "text/plain": [
       "1     2022-01-12 11:06:28-06:00\n",
       "2     2022-01-12 11:08:42-06:00\n",
       "3     2022-01-12 11:15:31-06:00\n",
       "4     2022-01-12 11:17:45-06:00\n",
       "5     2022-01-12 11:19:47-06:00\n",
       "                 ...           \n",
       "931   2022-04-28 14:04:40-06:00\n",
       "932   2022-04-28 14:06:30-06:00\n",
       "933   2022-04-28 14:08:07-06:00\n",
       "934   2022-04-29 09:23:02-06:00\n",
       "935   2022-04-29 11:37:42-06:00\n",
       "Name: startDate, Length: 935, dtype: datetime64[ns, pytz.FixedOffset(-360)]"
      ]
     },
     "execution_count": 4,
     "metadata": {},
     "output_type": "execute_result"
    }
   ],
   "source": [
    "sales['startDate'] = pd.to_datetime(sales['startDate'], format='%Y-%m-%d')\n",
    "sales['startDate']"
   ]
  },
  {
   "cell_type": "code",
   "execution_count": 5,
   "id": "12221d0e",
   "metadata": {},
   "outputs": [
    {
     "data": {
      "text/plain": [
       "1     2022-01-12 11:06:45-06:00\n",
       "2     2022-01-12 11:10:28-06:00\n",
       "3     2022-01-12 11:17:01-06:00\n",
       "4     2022-01-12 11:19:08-06:00\n",
       "5     2022-01-12 11:20:49-06:00\n",
       "                 ...           \n",
       "931   2022-04-28 14:06:21-06:00\n",
       "932   2022-04-28 14:07:57-06:00\n",
       "933   2022-04-28 14:09:36-06:00\n",
       "934   2022-04-29 09:24:22-06:00\n",
       "935   2022-04-29 11:41:21-06:00\n",
       "Name: endDate, Length: 935, dtype: datetime64[ns, pytz.FixedOffset(-360)]"
      ]
     },
     "execution_count": 5,
     "metadata": {},
     "output_type": "execute_result"
    }
   ],
   "source": [
    "sales['endDate'] = pd.to_datetime(sales['endDate'], format='%Y-%m-%d')\n",
    "sales['endDate']"
   ]
  },
  {
   "cell_type": "code",
   "execution_count": 24,
   "id": "641e9c3b",
   "metadata": {},
   "outputs": [
    {
     "data": {
      "text/plain": [
       "(935, 44)"
      ]
     },
     "execution_count": 24,
     "metadata": {},
     "output_type": "execute_result"
    }
   ],
   "source": [
    "sales.shape"
   ]
  },
  {
   "cell_type": "code",
   "execution_count": 6,
   "id": "4ca5f80a",
   "metadata": {},
   "outputs": [
    {
     "data": {
      "text/plain": [
       "Fenson Cherenfant            355\n",
       "Entrepreneur Community 25    134\n",
       "Manager Community 10          72\n",
       "Ernso Sylvain                 59\n",
       "Manager Community 36          43\n",
       "Entrepreneur Community 11     29\n",
       "Entreprneuer Community 34     19\n",
       "Entrepreneur Community 30     19\n",
       "Entrepreneur Community 20     19\n",
       "Entreprneuer Community 37     18\n",
       "Manager Community 29          16\n",
       "Manager Community 25          14\n",
       "Manager Community 27          13\n",
       "Manager Community 32          13\n",
       "Entreprneuer Community 36     11\n",
       "Manager Community 26          10\n",
       "Entrepreneur Community 28     10\n",
       "Mobile Test                   10\n",
       "Manager Community 34           8\n",
       "Bedrige Pierre                 7\n",
       "Entrepreneur Community 24      7\n",
       "Entrepreneur Community 26      6\n",
       "Manager Community 35           6\n",
       "Entrepreneur Community 22      5\n",
       "Manager Community 22           4\n",
       "Manager Community 9            4\n",
       "Entrepreneur Community 29      3\n",
       "Entrepreneur Community 27      3\n",
       "Manager Community 33           3\n",
       "Entrepreneur Community 16      3\n",
       "Entrepreneur Community 14      3\n",
       "UC TaroWorks Admin             2\n",
       "Entreprneuer Community 35      2\n",
       "Manager Community 28           2\n",
       "Manager Community 37           2\n",
       "Manager Community 24           1\n",
       "Name: Mobile User, dtype: int64"
      ]
     },
     "execution_count": 6,
     "metadata": {},
     "output_type": "execute_result"
    }
   ],
   "source": [
    "sales['Mobile User'].value_counts()"
   ]
  },
  {
   "cell_type": "code",
   "execution_count": 64,
   "id": "28124856",
   "metadata": {},
   "outputs": [
    {
     "data": {
      "text/plain": [
       "Sistèm Filtraj ak Pye / Filter                            567\n",
       "Recho / Stove                                             217\n",
       "Antreprenè Sistèm Filtraj ak Pye / Entrepreneur Filter    147\n",
       "Filtre / Filter                                             4\n",
       "Name: product_name, dtype: int64"
      ]
     },
     "execution_count": 64,
     "metadata": {},
     "output_type": "execute_result"
    }
   ],
   "source": [
    "sales['product_name'].value_counts()"
   ]
  },
  {
   "cell_type": "code",
   "execution_count": 11,
   "id": "f489cfb2",
   "metadata": {},
   "outputs": [
    {
     "data": {
      "text/html": [
       "<div>\n",
       "<style scoped>\n",
       "    .dataframe tbody tr th:only-of-type {\n",
       "        vertical-align: middle;\n",
       "    }\n",
       "\n",
       "    .dataframe tbody tr th {\n",
       "        vertical-align: top;\n",
       "    }\n",
       "\n",
       "    .dataframe thead th {\n",
       "        text-align: right;\n",
       "    }\n",
       "</style>\n",
       "<table border=\"1\" class=\"dataframe\">\n",
       "  <thead>\n",
       "    <tr style=\"text-align: right;\">\n",
       "      <th></th>\n",
       "      <th>Mobile User</th>\n",
       "      <th>deposit_amount_expected</th>\n",
       "      <th>montan_depoze_deposit_amount</th>\n",
       "      <th>payment_expected</th>\n",
       "      <th>cash_payment_amount</th>\n",
       "    </tr>\n",
       "  </thead>\n",
       "  <tbody>\n",
       "    <tr>\n",
       "      <th>1</th>\n",
       "      <td>UC TaroWorks Admin</td>\n",
       "      <td>NaN</td>\n",
       "      <td>NaN</td>\n",
       "      <td>2900.0</td>\n",
       "      <td>2900.0</td>\n",
       "    </tr>\n",
       "    <tr>\n",
       "      <th>2</th>\n",
       "      <td>Fenson Cherenfant</td>\n",
       "      <td>NaN</td>\n",
       "      <td>NaN</td>\n",
       "      <td>2900.0</td>\n",
       "      <td>2900.0</td>\n",
       "    </tr>\n",
       "    <tr>\n",
       "      <th>3</th>\n",
       "      <td>Fenson Cherenfant</td>\n",
       "      <td>NaN</td>\n",
       "      <td>NaN</td>\n",
       "      <td>2900.0</td>\n",
       "      <td>2900.0</td>\n",
       "    </tr>\n",
       "    <tr>\n",
       "      <th>4</th>\n",
       "      <td>Fenson Cherenfant</td>\n",
       "      <td>NaN</td>\n",
       "      <td>NaN</td>\n",
       "      <td>2900.0</td>\n",
       "      <td>2900.0</td>\n",
       "    </tr>\n",
       "    <tr>\n",
       "      <th>5</th>\n",
       "      <td>Fenson Cherenfant</td>\n",
       "      <td>NaN</td>\n",
       "      <td>NaN</td>\n",
       "      <td>2900.0</td>\n",
       "      <td>2900.0</td>\n",
       "    </tr>\n",
       "  </tbody>\n",
       "</table>\n",
       "</div>"
      ],
      "text/plain": [
       "0         Mobile User deposit_amount_expected montan_depoze_deposit_amount  \\\n",
       "1  UC TaroWorks Admin                     NaN                          NaN   \n",
       "2   Fenson Cherenfant                     NaN                          NaN   \n",
       "3   Fenson Cherenfant                     NaN                          NaN   \n",
       "4   Fenson Cherenfant                     NaN                          NaN   \n",
       "5   Fenson Cherenfant                     NaN                          NaN   \n",
       "\n",
       "0 payment_expected cash_payment_amount  \n",
       "1           2900.0              2900.0  \n",
       "2           2900.0              2900.0  \n",
       "3           2900.0              2900.0  \n",
       "4           2900.0              2900.0  \n",
       "5           2900.0              2900.0  "
      ]
     },
     "execution_count": 11,
     "metadata": {},
     "output_type": "execute_result"
    }
   ],
   "source": [
    "total_sales = sales[['Mobile User', 'deposit_amount_expected', 'montan_depoze_deposit_amount',\n",
    "                     'payment_expected', 'cash_payment_amount']]\n",
    "total_sales.head()"
   ]
  },
  {
   "cell_type": "code",
   "execution_count": 20,
   "id": "38bcb52a",
   "metadata": {},
   "outputs": [
    {
     "data": {
      "text/plain": [
       "(935, 5)"
      ]
     },
     "execution_count": 20,
     "metadata": {},
     "output_type": "execute_result"
    }
   ],
   "source": [
    "total_sales.shape"
   ]
  },
  {
   "cell_type": "code",
   "execution_count": 19,
   "id": "ffee7259",
   "metadata": {},
   "outputs": [],
   "source": [
    "# sales.to_json('../data/sales_in_json')"
   ]
  },
  {
   "cell_type": "markdown",
   "id": "c0eec331",
   "metadata": {},
   "source": [
    "## Loans Dataframe"
   ]
  },
  {
   "cell_type": "code",
   "execution_count": 7,
   "id": "7bb8f84c",
   "metadata": {},
   "outputs": [],
   "source": [
    "loans = pd.read_csv('../data/TWSupport Loan Repayments (v5)_1_2426.csv')\n"
   ]
  },
  {
   "cell_type": "code",
   "execution_count": 8,
   "id": "d23c0459",
   "metadata": {},
   "outputs": [
    {
     "data": {
      "text/html": [
       "<div>\n",
       "<style scoped>\n",
       "    .dataframe tbody tr th:only-of-type {\n",
       "        vertical-align: middle;\n",
       "    }\n",
       "\n",
       "    .dataframe tbody tr th {\n",
       "        vertical-align: top;\n",
       "    }\n",
       "\n",
       "    .dataframe thead th {\n",
       "        text-align: right;\n",
       "    }\n",
       "</style>\n",
       "<table border=\"1\" class=\"dataframe\">\n",
       "  <thead>\n",
       "    <tr style=\"text-align: right;\">\n",
       "      <th></th>\n",
       "      <th>startDate</th>\n",
       "      <th>endDate</th>\n",
       "      <th>Date</th>\n",
       "      <th>gps x</th>\n",
       "      <th>gps y</th>\n",
       "      <th>Mobile User</th>\n",
       "      <th>loan_id</th>\n",
       "      <th>transaction_id</th>\n",
       "      <th>amount_owed</th>\n",
       "      <th>montan_peman_an_amount_paid</th>\n",
       "      <th>date_of_transaction</th>\n",
       "      <th>currency</th>\n",
       "      <th>status_1</th>\n",
       "    </tr>\n",
       "  </thead>\n",
       "  <tbody>\n",
       "    <tr>\n",
       "      <th>1</th>\n",
       "      <td>2021-03-10 04:24:01-0600</td>\n",
       "      <td>2021-03-10 04:24:18-0600</td>\n",
       "      <td>2021-03-10</td>\n",
       "      <td>NaN</td>\n",
       "      <td>NaN</td>\n",
       "      <td>Entrepreneur Community 10</td>\n",
       "      <td>L-1121</td>\n",
       "      <td>T-12422</td>\n",
       "      <td>625</td>\n",
       "      <td>500</td>\n",
       "      <td>2021-03-10</td>\n",
       "      <td>HTG</td>\n",
       "      <td>Processed</td>\n",
       "    </tr>\n",
       "    <tr>\n",
       "      <th>2</th>\n",
       "      <td>2021-03-10 04:24:17-0600</td>\n",
       "      <td>2021-03-10 04:24:35-0600</td>\n",
       "      <td>2021-03-10</td>\n",
       "      <td>NaN</td>\n",
       "      <td>NaN</td>\n",
       "      <td>Entrepreneur Community 10</td>\n",
       "      <td>L-0136</td>\n",
       "      <td>T-1332</td>\n",
       "      <td>500</td>\n",
       "      <td>500</td>\n",
       "      <td>2021-03-10</td>\n",
       "      <td>HTG</td>\n",
       "      <td>Processed</td>\n",
       "    </tr>\n",
       "    <tr>\n",
       "      <th>3</th>\n",
       "      <td>2021-03-10 04:25:09-0600</td>\n",
       "      <td>2021-03-10 04:25:49-0600</td>\n",
       "      <td>2021-03-10</td>\n",
       "      <td>NaN</td>\n",
       "      <td>NaN</td>\n",
       "      <td>Entrepreneur Community 10</td>\n",
       "      <td>L-0150</td>\n",
       "      <td>T-1458</td>\n",
       "      <td>625</td>\n",
       "      <td>500</td>\n",
       "      <td>2021-03-10</td>\n",
       "      <td>HTG</td>\n",
       "      <td>Processed</td>\n",
       "    </tr>\n",
       "    <tr>\n",
       "      <th>4</th>\n",
       "      <td>2021-03-10 04:25:10-0600</td>\n",
       "      <td>2021-03-10 04:25:30-0600</td>\n",
       "      <td>2021-03-10</td>\n",
       "      <td>NaN</td>\n",
       "      <td>NaN</td>\n",
       "      <td>Entrepreneur Community 10</td>\n",
       "      <td>L-0443</td>\n",
       "      <td>T-4253</td>\n",
       "      <td>625</td>\n",
       "      <td>625</td>\n",
       "      <td>2021-03-10</td>\n",
       "      <td>HTG</td>\n",
       "      <td>Processed</td>\n",
       "    </tr>\n",
       "    <tr>\n",
       "      <th>5</th>\n",
       "      <td>2021-03-10 04:27:11-0600</td>\n",
       "      <td>2021-03-10 04:27:23-0600</td>\n",
       "      <td>2021-03-10</td>\n",
       "      <td>NaN</td>\n",
       "      <td>NaN</td>\n",
       "      <td>Entrepreneur Community 10</td>\n",
       "      <td>L-0150</td>\n",
       "      <td>T-1458</td>\n",
       "      <td>625</td>\n",
       "      <td>625</td>\n",
       "      <td>2021-03-10</td>\n",
       "      <td>HTG</td>\n",
       "      <td>Processed</td>\n",
       "    </tr>\n",
       "  </tbody>\n",
       "</table>\n",
       "</div>"
      ],
      "text/plain": [
       "0                 startDate                   endDate        Date gps x gps y  \\\n",
       "1  2021-03-10 04:24:01-0600  2021-03-10 04:24:18-0600  2021-03-10   NaN   NaN   \n",
       "2  2021-03-10 04:24:17-0600  2021-03-10 04:24:35-0600  2021-03-10   NaN   NaN   \n",
       "3  2021-03-10 04:25:09-0600  2021-03-10 04:25:49-0600  2021-03-10   NaN   NaN   \n",
       "4  2021-03-10 04:25:10-0600  2021-03-10 04:25:30-0600  2021-03-10   NaN   NaN   \n",
       "5  2021-03-10 04:27:11-0600  2021-03-10 04:27:23-0600  2021-03-10   NaN   NaN   \n",
       "\n",
       "0                Mobile User loan_id transaction_id amount_owed  \\\n",
       "1  Entrepreneur Community 10  L-1121        T-12422         625   \n",
       "2  Entrepreneur Community 10  L-0136         T-1332         500   \n",
       "3  Entrepreneur Community 10  L-0150         T-1458         625   \n",
       "4  Entrepreneur Community 10  L-0443         T-4253         625   \n",
       "5  Entrepreneur Community 10  L-0150         T-1458         625   \n",
       "\n",
       "0 montan_peman_an_amount_paid date_of_transaction currency   status_1  \n",
       "1                         500          2021-03-10      HTG  Processed  \n",
       "2                         500          2021-03-10      HTG  Processed  \n",
       "3                         500          2021-03-10      HTG  Processed  \n",
       "4                         625          2021-03-10      HTG  Processed  \n",
       "5                         625          2021-03-10      HTG  Processed  "
      ]
     },
     "execution_count": 8,
     "metadata": {},
     "output_type": "execute_result"
    }
   ],
   "source": [
    "loans.columns = loans.iloc[0]\n",
    "loans = loans.iloc[1:, :]\n",
    "loans.head()"
   ]
  },
  {
   "cell_type": "code",
   "execution_count": 9,
   "id": "885a1e4d",
   "metadata": {},
   "outputs": [
    {
     "data": {
      "text/plain": [
       "(2426, 13)"
      ]
     },
     "execution_count": 9,
     "metadata": {},
     "output_type": "execute_result"
    }
   ],
   "source": [
    "loans.shape"
   ]
  },
  {
   "cell_type": "code",
   "execution_count": 10,
   "id": "9f3b26af",
   "metadata": {},
   "outputs": [
    {
     "data": {
      "text/plain": [
       "Bedrige Pierre               680\n",
       "Fenson Cherenfant            445\n",
       "Manager Community 10         286\n",
       "Manager Community 20         220\n",
       "Entrepreneur Community 20    170\n",
       "Entrepreneur Community 16    167\n",
       "Entrepreneur Community 11    131\n",
       "Manager Community 15          69\n",
       "Hinche Office                 44\n",
       "Entrepreneur Community 9      39\n",
       "Hinche Intern 3               34\n",
       "Entrepreneur Community 10     33\n",
       "Entrepreneur Community 19     28\n",
       "Entrepreneur Community 14     24\n",
       "Entrepreneur Community 8      12\n",
       "Mobile Test                    6\n",
       "Entreprneuer Community 37      4\n",
       "UC TaroWorks Admin             4\n",
       "Manager Community 36           2\n",
       "Entreprneuer Community 36      2\n",
       "Manager Community 9            2\n",
       "Manager Community 24           2\n",
       "Entreprneuer Community 34      2\n",
       "Manager Community 22           2\n",
       "Manager Community 34           2\n",
       "Entrepreneur Community 26      2\n",
       "Entrepreneur Community 12      2\n",
       "Manager Community 31           1\n",
       "Entrepreneur Community 29      1\n",
       "Manager Community 33           1\n",
       "Entreprneuer Community 33      1\n",
       "Manager Community 16           1\n",
       "Ernso Sylvain                  1\n",
       "Manager Community 7            1\n",
       "Manager Community 28           1\n",
       "Entrepreneur Community 28      1\n",
       "Entrepreneur Community 24      1\n",
       "Entrepreneur Community 27      1\n",
       "Entrepreneur Community 25      1\n",
       "Name: Mobile User, dtype: int64"
      ]
     },
     "execution_count": 10,
     "metadata": {},
     "output_type": "execute_result"
    }
   ],
   "source": [
    "loans['Mobile User'].value_counts()"
   ]
  },
  {
   "cell_type": "code",
   "execution_count": 39,
   "id": "c08657dc",
   "metadata": {},
   "outputs": [
    {
     "data": {
      "text/plain": [
       "1      2021-03-10 04:24:01-06:00\n",
       "2      2021-03-10 04:24:17-06:00\n",
       "3      2021-03-10 04:25:09-06:00\n",
       "4      2021-03-10 04:25:10-06:00\n",
       "5      2021-03-10 04:27:11-06:00\n",
       "                  ...           \n",
       "2422   2022-04-29 11:36:15-06:00\n",
       "2423   2022-04-29 11:44:14-06:00\n",
       "2424   2022-04-29 11:45:34-06:00\n",
       "2425   2022-04-29 11:46:45-06:00\n",
       "2426   2022-04-29 11:57:26-06:00\n",
       "Name: startDate, Length: 2426, dtype: datetime64[ns, pytz.FixedOffset(-360)]"
      ]
     },
     "execution_count": 39,
     "metadata": {},
     "output_type": "execute_result"
    }
   ],
   "source": [
    "loans['startDate'] = pd.to_datetime(loans['startDate'], format='%Y-%m-%d')\n",
    "loans['startDate']"
   ]
  },
  {
   "cell_type": "code",
   "execution_count": 40,
   "id": "aa2b398b",
   "metadata": {},
   "outputs": [
    {
     "data": {
      "text/plain": [
       "1      2021-03-10 04:24:18-06:00\n",
       "2      2021-03-10 04:24:35-06:00\n",
       "3      2021-03-10 04:25:49-06:00\n",
       "4      2021-03-10 04:25:30-06:00\n",
       "5      2021-03-10 04:27:23-06:00\n",
       "                  ...           \n",
       "2422   2022-04-29 11:36:30-06:00\n",
       "2423   2022-04-29 11:44:30-06:00\n",
       "2424   2022-04-29 11:45:46-06:00\n",
       "2425   2022-04-29 11:47:02-06:00\n",
       "2426   2022-04-29 11:57:45-06:00\n",
       "Name: endDate, Length: 2426, dtype: datetime64[ns, pytz.FixedOffset(-360)]"
      ]
     },
     "execution_count": 40,
     "metadata": {},
     "output_type": "execute_result"
    }
   ],
   "source": [
    "loans['endDate'] = pd.to_datetime(loans['endDate'], format='%Y-%m-%d')\n",
    "loans['endDate']"
   ]
  },
  {
   "cell_type": "markdown",
   "id": "bb444ec7",
   "metadata": {},
   "source": [
    "### DF using only loans and user"
   ]
  },
  {
   "cell_type": "code",
   "execution_count": 12,
   "id": "43d6727c",
   "metadata": {},
   "outputs": [
    {
     "data": {
      "text/html": [
       "<div>\n",
       "<style scoped>\n",
       "    .dataframe tbody tr th:only-of-type {\n",
       "        vertical-align: middle;\n",
       "    }\n",
       "\n",
       "    .dataframe tbody tr th {\n",
       "        vertical-align: top;\n",
       "    }\n",
       "\n",
       "    .dataframe thead th {\n",
       "        text-align: right;\n",
       "    }\n",
       "</style>\n",
       "<table border=\"1\" class=\"dataframe\">\n",
       "  <thead>\n",
       "    <tr style=\"text-align: right;\">\n",
       "      <th></th>\n",
       "      <th>Mobile User</th>\n",
       "      <th>amount_owed</th>\n",
       "      <th>montan_peman_an_amount_paid</th>\n",
       "    </tr>\n",
       "  </thead>\n",
       "  <tbody>\n",
       "    <tr>\n",
       "      <th>1</th>\n",
       "      <td>Entrepreneur Community 10</td>\n",
       "      <td>625</td>\n",
       "      <td>500</td>\n",
       "    </tr>\n",
       "    <tr>\n",
       "      <th>2</th>\n",
       "      <td>Entrepreneur Community 10</td>\n",
       "      <td>500</td>\n",
       "      <td>500</td>\n",
       "    </tr>\n",
       "    <tr>\n",
       "      <th>3</th>\n",
       "      <td>Entrepreneur Community 10</td>\n",
       "      <td>625</td>\n",
       "      <td>500</td>\n",
       "    </tr>\n",
       "    <tr>\n",
       "      <th>4</th>\n",
       "      <td>Entrepreneur Community 10</td>\n",
       "      <td>625</td>\n",
       "      <td>625</td>\n",
       "    </tr>\n",
       "    <tr>\n",
       "      <th>5</th>\n",
       "      <td>Entrepreneur Community 10</td>\n",
       "      <td>625</td>\n",
       "      <td>625</td>\n",
       "    </tr>\n",
       "  </tbody>\n",
       "</table>\n",
       "</div>"
      ],
      "text/plain": [
       "0                Mobile User amount_owed montan_peman_an_amount_paid\n",
       "1  Entrepreneur Community 10         625                         500\n",
       "2  Entrepreneur Community 10         500                         500\n",
       "3  Entrepreneur Community 10         625                         500\n",
       "4  Entrepreneur Community 10         625                         625\n",
       "5  Entrepreneur Community 10         625                         625"
      ]
     },
     "execution_count": 12,
     "metadata": {},
     "output_type": "execute_result"
    }
   ],
   "source": [
    "total_loans = loans[['Mobile User', 'amount_owed', 'montan_peman_an_amount_paid']]\n",
    "total_loans.head()"
   ]
  },
  {
   "cell_type": "code",
   "execution_count": 21,
   "id": "dfcf4d7f",
   "metadata": {},
   "outputs": [
    {
     "data": {
      "text/plain": [
       "(2426, 3)"
      ]
     },
     "execution_count": 21,
     "metadata": {},
     "output_type": "execute_result"
    }
   ],
   "source": [
    "total_loans.shape"
   ]
  },
  {
   "cell_type": "markdown",
   "id": "e583501f",
   "metadata": {},
   "source": [
    "### Trying to separate loans by year"
   ]
  },
  {
   "cell_type": "code",
   "execution_count": 42,
   "id": "7b42c17e",
   "metadata": {},
   "outputs": [
    {
     "data": {
      "text/plain": [
       "(2129, 13)"
      ]
     },
     "execution_count": 42,
     "metadata": {},
     "output_type": "execute_result"
    }
   ],
   "source": [
    "loans_2021 = loans[loans['startDate'].dt.year == 2021]\n",
    "loans_2021.shape"
   ]
  },
  {
   "cell_type": "code",
   "execution_count": 45,
   "id": "e932e089",
   "metadata": {},
   "outputs": [
    {
     "data": {
      "text/html": [
       "<div>\n",
       "<style scoped>\n",
       "    .dataframe tbody tr th:only-of-type {\n",
       "        vertical-align: middle;\n",
       "    }\n",
       "\n",
       "    .dataframe tbody tr th {\n",
       "        vertical-align: top;\n",
       "    }\n",
       "\n",
       "    .dataframe thead th {\n",
       "        text-align: right;\n",
       "    }\n",
       "</style>\n",
       "<table border=\"1\" class=\"dataframe\">\n",
       "  <thead>\n",
       "    <tr style=\"text-align: right;\">\n",
       "      <th></th>\n",
       "      <th>startDate</th>\n",
       "      <th>endDate</th>\n",
       "      <th>Date</th>\n",
       "      <th>gps x</th>\n",
       "      <th>gps y</th>\n",
       "      <th>Mobile User</th>\n",
       "      <th>loan_id</th>\n",
       "      <th>transaction_id</th>\n",
       "      <th>amount_owed</th>\n",
       "      <th>montan_peman_an_amount_paid</th>\n",
       "      <th>date_of_transaction</th>\n",
       "      <th>currency</th>\n",
       "      <th>status_1</th>\n",
       "    </tr>\n",
       "  </thead>\n",
       "  <tbody>\n",
       "    <tr>\n",
       "      <th>1</th>\n",
       "      <td>2021-03-10 04:24:01-06:00</td>\n",
       "      <td>2021-03-10 04:24:18-06:00</td>\n",
       "      <td>2021-03-10</td>\n",
       "      <td>NaN</td>\n",
       "      <td>NaN</td>\n",
       "      <td>Entrepreneur Community 10</td>\n",
       "      <td>L-1121</td>\n",
       "      <td>T-12422</td>\n",
       "      <td>625</td>\n",
       "      <td>500</td>\n",
       "      <td>2021-03-10</td>\n",
       "      <td>HTG</td>\n",
       "      <td>Processed</td>\n",
       "    </tr>\n",
       "    <tr>\n",
       "      <th>2</th>\n",
       "      <td>2021-03-10 04:24:17-06:00</td>\n",
       "      <td>2021-03-10 04:24:35-06:00</td>\n",
       "      <td>2021-03-10</td>\n",
       "      <td>NaN</td>\n",
       "      <td>NaN</td>\n",
       "      <td>Entrepreneur Community 10</td>\n",
       "      <td>L-0136</td>\n",
       "      <td>T-1332</td>\n",
       "      <td>500</td>\n",
       "      <td>500</td>\n",
       "      <td>2021-03-10</td>\n",
       "      <td>HTG</td>\n",
       "      <td>Processed</td>\n",
       "    </tr>\n",
       "    <tr>\n",
       "      <th>3</th>\n",
       "      <td>2021-03-10 04:25:09-06:00</td>\n",
       "      <td>2021-03-10 04:25:49-06:00</td>\n",
       "      <td>2021-03-10</td>\n",
       "      <td>NaN</td>\n",
       "      <td>NaN</td>\n",
       "      <td>Entrepreneur Community 10</td>\n",
       "      <td>L-0150</td>\n",
       "      <td>T-1458</td>\n",
       "      <td>625</td>\n",
       "      <td>500</td>\n",
       "      <td>2021-03-10</td>\n",
       "      <td>HTG</td>\n",
       "      <td>Processed</td>\n",
       "    </tr>\n",
       "    <tr>\n",
       "      <th>4</th>\n",
       "      <td>2021-03-10 04:25:10-06:00</td>\n",
       "      <td>2021-03-10 04:25:30-06:00</td>\n",
       "      <td>2021-03-10</td>\n",
       "      <td>NaN</td>\n",
       "      <td>NaN</td>\n",
       "      <td>Entrepreneur Community 10</td>\n",
       "      <td>L-0443</td>\n",
       "      <td>T-4253</td>\n",
       "      <td>625</td>\n",
       "      <td>625</td>\n",
       "      <td>2021-03-10</td>\n",
       "      <td>HTG</td>\n",
       "      <td>Processed</td>\n",
       "    </tr>\n",
       "    <tr>\n",
       "      <th>5</th>\n",
       "      <td>2021-03-10 04:27:11-06:00</td>\n",
       "      <td>2021-03-10 04:27:23-06:00</td>\n",
       "      <td>2021-03-10</td>\n",
       "      <td>NaN</td>\n",
       "      <td>NaN</td>\n",
       "      <td>Entrepreneur Community 10</td>\n",
       "      <td>L-0150</td>\n",
       "      <td>T-1458</td>\n",
       "      <td>625</td>\n",
       "      <td>625</td>\n",
       "      <td>2021-03-10</td>\n",
       "      <td>HTG</td>\n",
       "      <td>Processed</td>\n",
       "    </tr>\n",
       "    <tr>\n",
       "      <th>...</th>\n",
       "      <td>...</td>\n",
       "      <td>...</td>\n",
       "      <td>...</td>\n",
       "      <td>...</td>\n",
       "      <td>...</td>\n",
       "      <td>...</td>\n",
       "      <td>...</td>\n",
       "      <td>...</td>\n",
       "      <td>...</td>\n",
       "      <td>...</td>\n",
       "      <td>...</td>\n",
       "      <td>...</td>\n",
       "      <td>...</td>\n",
       "    </tr>\n",
       "    <tr>\n",
       "      <th>2125</th>\n",
       "      <td>2021-12-25 13:24:51-06:00</td>\n",
       "      <td>2021-12-25 13:25:06-06:00</td>\n",
       "      <td>2021-12-25</td>\n",
       "      <td>NaN</td>\n",
       "      <td>NaN</td>\n",
       "      <td>Manager Community 10</td>\n",
       "      <td>L-0461</td>\n",
       "      <td>T-4415</td>\n",
       "      <td>1250</td>\n",
       "      <td>1250</td>\n",
       "      <td>2021-12-25</td>\n",
       "      <td>HTG</td>\n",
       "      <td>Processed</td>\n",
       "    </tr>\n",
       "    <tr>\n",
       "      <th>2126</th>\n",
       "      <td>2021-12-25 13:26:09-06:00</td>\n",
       "      <td>2021-12-25 13:26:36-06:00</td>\n",
       "      <td>2021-12-25</td>\n",
       "      <td>NaN</td>\n",
       "      <td>NaN</td>\n",
       "      <td>Manager Community 10</td>\n",
       "      <td>L-2000</td>\n",
       "      <td>T-28040</td>\n",
       "      <td>1350</td>\n",
       "      <td>1350</td>\n",
       "      <td>2021-12-25</td>\n",
       "      <td>HTG</td>\n",
       "      <td>Processed</td>\n",
       "    </tr>\n",
       "    <tr>\n",
       "      <th>2127</th>\n",
       "      <td>2021-12-25 13:27:15-06:00</td>\n",
       "      <td>2021-12-25 13:27:28-06:00</td>\n",
       "      <td>2021-12-25</td>\n",
       "      <td>NaN</td>\n",
       "      <td>NaN</td>\n",
       "      <td>Manager Community 10</td>\n",
       "      <td>L-2000</td>\n",
       "      <td>T-28041</td>\n",
       "      <td>1350</td>\n",
       "      <td>1150</td>\n",
       "      <td>2021-12-25</td>\n",
       "      <td>HTG</td>\n",
       "      <td>Processed</td>\n",
       "    </tr>\n",
       "    <tr>\n",
       "      <th>2128</th>\n",
       "      <td>2021-12-29 17:00:18-06:00</td>\n",
       "      <td>2021-12-29 17:02:40-06:00</td>\n",
       "      <td>2021-12-29</td>\n",
       "      <td>NaN</td>\n",
       "      <td>NaN</td>\n",
       "      <td>Entrepreneur Community 16</td>\n",
       "      <td>L-2099</td>\n",
       "      <td>T-32008</td>\n",
       "      <td>1000</td>\n",
       "      <td>500</td>\n",
       "      <td>2021-12-29</td>\n",
       "      <td>HTG</td>\n",
       "      <td>Processed</td>\n",
       "    </tr>\n",
       "    <tr>\n",
       "      <th>2129</th>\n",
       "      <td>2021-12-30 20:12:33-06:00</td>\n",
       "      <td>2021-12-30 20:12:48-06:00</td>\n",
       "      <td>2021-12-30</td>\n",
       "      <td>NaN</td>\n",
       "      <td>NaN</td>\n",
       "      <td>Entrepreneur Community 16</td>\n",
       "      <td>L-0732</td>\n",
       "      <td>T-7286</td>\n",
       "      <td>1000</td>\n",
       "      <td>1000</td>\n",
       "      <td>2021-12-30</td>\n",
       "      <td>HTG</td>\n",
       "      <td>Processed</td>\n",
       "    </tr>\n",
       "  </tbody>\n",
       "</table>\n",
       "<p>2129 rows × 13 columns</p>\n",
       "</div>"
      ],
      "text/plain": [
       "0                    startDate                   endDate        Date gps x  \\\n",
       "1    2021-03-10 04:24:01-06:00 2021-03-10 04:24:18-06:00  2021-03-10   NaN   \n",
       "2    2021-03-10 04:24:17-06:00 2021-03-10 04:24:35-06:00  2021-03-10   NaN   \n",
       "3    2021-03-10 04:25:09-06:00 2021-03-10 04:25:49-06:00  2021-03-10   NaN   \n",
       "4    2021-03-10 04:25:10-06:00 2021-03-10 04:25:30-06:00  2021-03-10   NaN   \n",
       "5    2021-03-10 04:27:11-06:00 2021-03-10 04:27:23-06:00  2021-03-10   NaN   \n",
       "...                        ...                       ...         ...   ...   \n",
       "2125 2021-12-25 13:24:51-06:00 2021-12-25 13:25:06-06:00  2021-12-25   NaN   \n",
       "2126 2021-12-25 13:26:09-06:00 2021-12-25 13:26:36-06:00  2021-12-25   NaN   \n",
       "2127 2021-12-25 13:27:15-06:00 2021-12-25 13:27:28-06:00  2021-12-25   NaN   \n",
       "2128 2021-12-29 17:00:18-06:00 2021-12-29 17:02:40-06:00  2021-12-29   NaN   \n",
       "2129 2021-12-30 20:12:33-06:00 2021-12-30 20:12:48-06:00  2021-12-30   NaN   \n",
       "\n",
       "0    gps y                Mobile User loan_id transaction_id amount_owed  \\\n",
       "1      NaN  Entrepreneur Community 10  L-1121        T-12422         625   \n",
       "2      NaN  Entrepreneur Community 10  L-0136         T-1332         500   \n",
       "3      NaN  Entrepreneur Community 10  L-0150         T-1458         625   \n",
       "4      NaN  Entrepreneur Community 10  L-0443         T-4253         625   \n",
       "5      NaN  Entrepreneur Community 10  L-0150         T-1458         625   \n",
       "...    ...                        ...     ...            ...         ...   \n",
       "2125   NaN       Manager Community 10  L-0461         T-4415        1250   \n",
       "2126   NaN       Manager Community 10  L-2000        T-28040        1350   \n",
       "2127   NaN       Manager Community 10  L-2000        T-28041        1350   \n",
       "2128   NaN  Entrepreneur Community 16  L-2099        T-32008        1000   \n",
       "2129   NaN  Entrepreneur Community 16  L-0732         T-7286        1000   \n",
       "\n",
       "0    montan_peman_an_amount_paid date_of_transaction currency   status_1  \n",
       "1                            500          2021-03-10      HTG  Processed  \n",
       "2                            500          2021-03-10      HTG  Processed  \n",
       "3                            500          2021-03-10      HTG  Processed  \n",
       "4                            625          2021-03-10      HTG  Processed  \n",
       "5                            625          2021-03-10      HTG  Processed  \n",
       "...                          ...                 ...      ...        ...  \n",
       "2125                        1250          2021-12-25      HTG  Processed  \n",
       "2126                        1350          2021-12-25      HTG  Processed  \n",
       "2127                        1150          2021-12-25      HTG  Processed  \n",
       "2128                         500          2021-12-29      HTG  Processed  \n",
       "2129                        1000          2021-12-30      HTG  Processed  \n",
       "\n",
       "[2129 rows x 13 columns]"
      ]
     },
     "execution_count": 45,
     "metadata": {},
     "output_type": "execute_result"
    }
   ],
   "source": [
    "loans_2021"
   ]
  },
  {
   "cell_type": "code",
   "execution_count": 51,
   "id": "a8d5b7b5",
   "metadata": {},
   "outputs": [
    {
     "data": {
      "text/plain": [
       "(18, 13)"
      ]
     },
     "execution_count": 51,
     "metadata": {},
     "output_type": "execute_result"
    }
   ],
   "source": [
    "# Year 2021 Quarter 1\n",
    "loans_2021_q1 = loans_2021[loans_2021['startDate'].dt.quarter == 1]\n",
    "loans_2021_q1.shape"
   ]
  },
  {
   "cell_type": "code",
   "execution_count": 59,
   "id": "793ee01a",
   "metadata": {},
   "outputs": [
    {
     "data": {
      "text/plain": [
       "Entrepreneur Community 10    18\n",
       "Name: Mobile User, dtype: int64"
      ]
     },
     "execution_count": 59,
     "metadata": {},
     "output_type": "execute_result"
    }
   ],
   "source": [
    "loans_2021_q1['Mobile User'].value_counts()"
   ]
  },
  {
   "cell_type": "code",
   "execution_count": 52,
   "id": "0be8703e",
   "metadata": {},
   "outputs": [
    {
     "data": {
      "text/plain": [
       "(57, 13)"
      ]
     },
     "execution_count": 52,
     "metadata": {},
     "output_type": "execute_result"
    }
   ],
   "source": [
    "# Year 2021 Quarter 2\n",
    "loans_2021_q2 = loans_2021[loans_2021['startDate'].dt.quarter == 2]\n",
    "loans_2021_q2.shape"
   ]
  },
  {
   "cell_type": "code",
   "execution_count": 58,
   "id": "debe3a51",
   "metadata": {},
   "outputs": [
    {
     "data": {
      "text/plain": [
       "Entrepreneur Community 11    42\n",
       "Entrepreneur Community 14     5\n",
       "Entrepreneur Community 16     5\n",
       "Manager Community 10          5\n",
       "Name: Mobile User, dtype: int64"
      ]
     },
     "execution_count": 58,
     "metadata": {},
     "output_type": "execute_result"
    }
   ],
   "source": [
    "loans_2021_q2['Mobile User'].value_counts()"
   ]
  },
  {
   "cell_type": "code",
   "execution_count": 53,
   "id": "fa4eaae9",
   "metadata": {},
   "outputs": [
    {
     "data": {
      "text/plain": [
       "(1475, 13)"
      ]
     },
     "execution_count": 53,
     "metadata": {},
     "output_type": "execute_result"
    }
   ],
   "source": [
    "# Year 2021 Quarter 3\n",
    "loans_2021_q3 = loans_2021[loans_2021['startDate'].dt.quarter == 3]\n",
    "loans_2021_q3.shape"
   ]
  },
  {
   "cell_type": "code",
   "execution_count": 56,
   "id": "5fdaaa6f",
   "metadata": {},
   "outputs": [
    {
     "data": {
      "text/plain": [
       "Bedrige Pierre               337\n",
       "Fenson Cherenfant            335\n",
       "Manager Community 10         156\n",
       "Manager Community 20         139\n",
       "Entrepreneur Community 16    138\n",
       "Entrepreneur Community 20    128\n",
       "Entrepreneur Community 11     68\n",
       "Hinche Office                 44\n",
       "Entrepreneur Community 9      39\n",
       "Hinche Intern 3               34\n",
       "Entrepreneur Community 19     27\n",
       "Entrepreneur Community 14     19\n",
       "UC TaroWorks Admin             4\n",
       "Manager Community 22           2\n",
       "Entrepreneur Community 12      2\n",
       "Manager Community 9            2\n",
       "Mobile Test                    1\n",
       "Name: Mobile User, dtype: int64"
      ]
     },
     "execution_count": 56,
     "metadata": {},
     "output_type": "execute_result"
    }
   ],
   "source": [
    "loans_2021_q3['Mobile User'].value_counts()"
   ]
  },
  {
   "cell_type": "code",
   "execution_count": 54,
   "id": "56ef148b",
   "metadata": {},
   "outputs": [
    {
     "data": {
      "text/plain": [
       "(579, 13)"
      ]
     },
     "execution_count": 54,
     "metadata": {},
     "output_type": "execute_result"
    }
   ],
   "source": [
    "# Year 2021 Quarter 2\n",
    "loans_2021_q4 = loans_2021[loans_2021['startDate'].dt.quarter == 4]\n",
    "loans_2021_q4.shape"
   ]
  },
  {
   "cell_type": "code",
   "execution_count": 57,
   "id": "fdb27164",
   "metadata": {},
   "outputs": [
    {
     "data": {
      "text/plain": [
       "Bedrige Pierre               238\n",
       "Fenson Cherenfant             91\n",
       "Manager Community 10          83\n",
       "Manager Community 20          80\n",
       "Entrepreneur Community 20     35\n",
       "Entrepreneur Community 16     22\n",
       "Entrepreneur Community 10     15\n",
       "Entrepreneur Community 8      12\n",
       "Manager Community 7            1\n",
       "Entrepreneur Community 11      1\n",
       "Entrepreneur Community 19      1\n",
       "Name: Mobile User, dtype: int64"
      ]
     },
     "execution_count": 57,
     "metadata": {},
     "output_type": "execute_result"
    }
   ],
   "source": [
    "loans_2021_q4['Mobile User'].value_counts()"
   ]
  },
  {
   "cell_type": "code",
   "execution_count": 43,
   "id": "395cbbe8",
   "metadata": {},
   "outputs": [
    {
     "data": {
      "text/plain": [
       "(297, 13)"
      ]
     },
     "execution_count": 43,
     "metadata": {},
     "output_type": "execute_result"
    }
   ],
   "source": [
    "loans_2022 = loans[loans['startDate'].dt.year == 2022]\n",
    "loans_2022.shape"
   ]
  },
  {
   "cell_type": "code",
   "execution_count": 60,
   "id": "8de1096d",
   "metadata": {},
   "outputs": [
    {
     "data": {
      "text/plain": [
       "(240, 13)"
      ]
     },
     "execution_count": 60,
     "metadata": {},
     "output_type": "execute_result"
    }
   ],
   "source": [
    "# Year 2022 Quarter 1\n",
    "loans_2022_q1 = loans_2022[loans_2022['startDate'].dt.quarter == 1]\n",
    "loans_2022_q1.shape"
   ]
  },
  {
   "cell_type": "code",
   "execution_count": 62,
   "id": "f50f16f6",
   "metadata": {},
   "outputs": [
    {
     "data": {
      "text/plain": [
       "Bedrige Pierre               94\n",
       "Manager Community 15         69\n",
       "Manager Community 10         24\n",
       "Entrepreneur Community 11    20\n",
       "Fenson Cherenfant            10\n",
       "Entrepreneur Community 20     4\n",
       "Manager Community 24          2\n",
       "Manager Community 34          2\n",
       "Entreprneuer Community 34     2\n",
       "Entrepreneur Community 26     2\n",
       "Entrepreneur Community 24     1\n",
       "Manager Community 31          1\n",
       "Entrepreneur Community 28     1\n",
       "Manager Community 28          1\n",
       "Entrepreneur Community 27     1\n",
       "Manager Community 16          1\n",
       "Manager Community 20          1\n",
       "Entrepreneur Community 29     1\n",
       "Entreprneuer Community 37     1\n",
       "Entreprneuer Community 33     1\n",
       "Manager Community 33          1\n",
       "Name: Mobile User, dtype: int64"
      ]
     },
     "execution_count": 62,
     "metadata": {},
     "output_type": "execute_result"
    }
   ],
   "source": [
    "loans_2022_q1['Mobile User'].value_counts()"
   ]
  },
  {
   "cell_type": "code",
   "execution_count": 61,
   "id": "625779d3",
   "metadata": {},
   "outputs": [
    {
     "data": {
      "text/plain": [
       "(57, 13)"
      ]
     },
     "execution_count": 61,
     "metadata": {},
     "output_type": "execute_result"
    }
   ],
   "source": [
    "# Year 2022 Quarter 2\n",
    "loans_2022_q2 = loans_2022[loans_2022['startDate'].dt.quarter == 2]\n",
    "loans_2022_q2.shape"
   ]
  },
  {
   "cell_type": "code",
   "execution_count": 63,
   "id": "08b05128",
   "metadata": {},
   "outputs": [
    {
     "data": {
      "text/plain": [
       "Manager Community 10         18\n",
       "Bedrige Pierre               11\n",
       "Fenson Cherenfant             9\n",
       "Mobile Test                   5\n",
       "Entreprneuer Community 37     3\n",
       "Entrepreneur Community 20     3\n",
       "Entrepreneur Community 16     2\n",
       "Entreprneuer Community 36     2\n",
       "Manager Community 36          2\n",
       "Entrepreneur Community 25     1\n",
       "Ernso Sylvain                 1\n",
       "Name: Mobile User, dtype: int64"
      ]
     },
     "execution_count": 63,
     "metadata": {},
     "output_type": "execute_result"
    }
   ],
   "source": [
    "loans_2022_q2['Mobile User'].value_counts()"
   ]
  },
  {
   "cell_type": "markdown",
   "id": "beb90dae",
   "metadata": {},
   "source": [
    "### Attempt to merge the Total sales and loans"
   ]
  },
  {
   "cell_type": "code",
   "execution_count": 29,
   "id": "220074bf",
   "metadata": {},
   "outputs": [],
   "source": [
    "total_sales_and_loans = pd.merge(total_loans, total_sales, how='inner')"
   ]
  },
  {
   "cell_type": "code",
   "execution_count": 30,
   "id": "32ea1b6e",
   "metadata": {},
   "outputs": [
    {
     "data": {
      "text/html": [
       "<div>\n",
       "<style scoped>\n",
       "    .dataframe tbody tr th:only-of-type {\n",
       "        vertical-align: middle;\n",
       "    }\n",
       "\n",
       "    .dataframe tbody tr th {\n",
       "        vertical-align: top;\n",
       "    }\n",
       "\n",
       "    .dataframe thead th {\n",
       "        text-align: right;\n",
       "    }\n",
       "</style>\n",
       "<table border=\"1\" class=\"dataframe\">\n",
       "  <thead>\n",
       "    <tr style=\"text-align: right;\">\n",
       "      <th></th>\n",
       "      <th>Mobile User</th>\n",
       "      <th>amount_owed</th>\n",
       "      <th>montan_peman_an_amount_paid</th>\n",
       "      <th>deposit_amount_expected</th>\n",
       "      <th>montan_depoze_deposit_amount</th>\n",
       "      <th>payment_expected</th>\n",
       "      <th>cash_payment_amount</th>\n",
       "    </tr>\n",
       "  </thead>\n",
       "  <tbody>\n",
       "    <tr>\n",
       "      <th>0</th>\n",
       "      <td>Entrepreneur Community 11</td>\n",
       "      <td>500</td>\n",
       "      <td>500</td>\n",
       "      <td>NaN</td>\n",
       "      <td>NaN</td>\n",
       "      <td>3500.0</td>\n",
       "      <td>3500.0</td>\n",
       "    </tr>\n",
       "    <tr>\n",
       "      <th>1</th>\n",
       "      <td>Entrepreneur Community 11</td>\n",
       "      <td>500</td>\n",
       "      <td>500</td>\n",
       "      <td>NaN</td>\n",
       "      <td>NaN</td>\n",
       "      <td>3500.0</td>\n",
       "      <td>3500.0</td>\n",
       "    </tr>\n",
       "    <tr>\n",
       "      <th>2</th>\n",
       "      <td>Entrepreneur Community 11</td>\n",
       "      <td>500</td>\n",
       "      <td>500</td>\n",
       "      <td>NaN</td>\n",
       "      <td>NaN</td>\n",
       "      <td>3500.0</td>\n",
       "      <td>3500.0</td>\n",
       "    </tr>\n",
       "    <tr>\n",
       "      <th>3</th>\n",
       "      <td>Entrepreneur Community 11</td>\n",
       "      <td>500</td>\n",
       "      <td>500</td>\n",
       "      <td>NaN</td>\n",
       "      <td>NaN</td>\n",
       "      <td>3500.0</td>\n",
       "      <td>3500.0</td>\n",
       "    </tr>\n",
       "    <tr>\n",
       "      <th>4</th>\n",
       "      <td>Entrepreneur Community 11</td>\n",
       "      <td>500</td>\n",
       "      <td>500</td>\n",
       "      <td>NaN</td>\n",
       "      <td>NaN</td>\n",
       "      <td>3500.0</td>\n",
       "      <td>3500.0</td>\n",
       "    </tr>\n",
       "  </tbody>\n",
       "</table>\n",
       "</div>"
      ],
      "text/plain": [
       "0                Mobile User amount_owed montan_peman_an_amount_paid  \\\n",
       "0  Entrepreneur Community 11         500                         500   \n",
       "1  Entrepreneur Community 11         500                         500   \n",
       "2  Entrepreneur Community 11         500                         500   \n",
       "3  Entrepreneur Community 11         500                         500   \n",
       "4  Entrepreneur Community 11         500                         500   \n",
       "\n",
       "0 deposit_amount_expected montan_depoze_deposit_amount payment_expected  \\\n",
       "0                     NaN                          NaN           3500.0   \n",
       "1                     NaN                          NaN           3500.0   \n",
       "2                     NaN                          NaN           3500.0   \n",
       "3                     NaN                          NaN           3500.0   \n",
       "4                     NaN                          NaN           3500.0   \n",
       "\n",
       "0 cash_payment_amount  \n",
       "0              3500.0  \n",
       "1              3500.0  \n",
       "2              3500.0  \n",
       "3              3500.0  \n",
       "4              3500.0  "
      ]
     },
     "execution_count": 30,
     "metadata": {},
     "output_type": "execute_result"
    }
   ],
   "source": [
    "total_sales_and_loans.head()"
   ]
  },
  {
   "cell_type": "code",
   "execution_count": 31,
   "id": "96b80a67",
   "metadata": {},
   "outputs": [
    {
     "data": {
      "text/plain": [
       "Fenson Cherenfant            157975\n",
       "Manager Community 10          20592\n",
       "Bedrige Pierre                 4760\n",
       "Entrepreneur Community 11      3799\n",
       "Entrepreneur Community 20      3230\n",
       "Entrepreneur Community 16       501\n",
       "Entrepreneur Community 25       134\n",
       "Manager Community 36             86\n",
       "Entreprneuer Community 37        72\n",
       "Entrepreneur Community 14        72\n",
       "Mobile Test                      60\n",
       "Ernso Sylvain                    59\n",
       "Entreprneuer Community 34        38\n",
       "Entreprneuer Community 36        22\n",
       "Manager Community 34             16\n",
       "Entrepreneur Community 26        12\n",
       "Entrepreneur Community 28        10\n",
       "UC TaroWorks Admin                8\n",
       "Manager Community 22              8\n",
       "Manager Community 9               8\n",
       "Entrepreneur Community 24         7\n",
       "Entrepreneur Community 27         3\n",
       "Entrepreneur Community 29         3\n",
       "Manager Community 33              3\n",
       "Manager Community 24              2\n",
       "Manager Community 28              2\n",
       "Name: Mobile User, dtype: int64"
      ]
     },
     "execution_count": 31,
     "metadata": {},
     "output_type": "execute_result"
    }
   ],
   "source": [
    "total_sales_and_loans['Mobile User'].value_counts()"
   ]
  },
  {
   "cell_type": "code",
   "execution_count": 32,
   "id": "115e6765",
   "metadata": {},
   "outputs": [
    {
     "data": {
      "text/plain": [
       "(191482, 7)"
      ]
     },
     "execution_count": 32,
     "metadata": {},
     "output_type": "execute_result"
    }
   ],
   "source": [
    "total_sales_and_loans.shape"
   ]
  },
  {
   "cell_type": "markdown",
   "id": "26d8f9a9",
   "metadata": {},
   "source": [
    "# By Product"
   ]
  },
  {
   "cell_type": "markdown",
   "id": "1f363bae",
   "metadata": {},
   "source": [
    "## Water Filter"
   ]
  },
  {
   "cell_type": "code",
   "execution_count": 68,
   "id": "5d508550",
   "metadata": {},
   "outputs": [
    {
     "data": {
      "text/plain": [
       "Fenson Cherenfant            221\n",
       "Entrepreneur Community 25    105\n",
       "Ernso Sylvain                 45\n",
       "Manager Community 36          35\n",
       "Entreprneuer Community 37     16\n",
       "Manager Community 10          16\n",
       "Entrepreneur Community 30     14\n",
       "Entrepreneur Community 11     12\n",
       "Manager Community 29          12\n",
       "Manager Community 25          11\n",
       "Manager Community 32           9\n",
       "Manager Community 35           6\n",
       "Entrepreneur Community 28      6\n",
       "Entrepreneur Community 22      5\n",
       "Entrepreneur Community 26      5\n",
       "Bedrige Pierre                 5\n",
       "Entreprneuer Community 34      5\n",
       "Manager Community 22           4\n",
       "Mobile Test                    4\n",
       "Manager Community 34           3\n",
       "Manager Community 9            3\n",
       "Entrepreneur Community 14      3\n",
       "Entrepreneur Community 16      3\n",
       "Entrepreneur Community 20      3\n",
       "Entrepreneur Community 29      2\n",
       "Entrepreneur Community 27      2\n",
       "Entreprneuer Community 35      2\n",
       "Manager Community 28           2\n",
       "Entreprneuer Community 36      2\n",
       "Manager Community 33           2\n",
       "UC TaroWorks Admin             1\n",
       "Manager Community 24           1\n",
       "Manager Community 27           1\n",
       "Entrepreneur Community 24      1\n",
       "Name: Mobile User, dtype: int64"
      ]
     },
     "execution_count": 68,
     "metadata": {},
     "output_type": "execute_result"
    }
   ],
   "source": [
    "water_filter_cash = sales[sales['product_name'] == 'Sistèm Filtraj ak Pye / Filter']\n",
    "water_filter_cash['Mobile User'].value_counts()"
   ]
  },
  {
   "cell_type": "code",
   "execution_count": 70,
   "id": "f55157c6",
   "metadata": {},
   "outputs": [
    {
     "data": {
      "text/plain": [
       "Fenson Cherenfant            73\n",
       "Manager Community 27         12\n",
       "Entrepreneur Community 25    12\n",
       "Manager Community 26         10\n",
       "Entreprneuer Community 34     9\n",
       "Entreprneuer Community 36     8\n",
       "Entrepreneur Community 24     6\n",
       "Manager Community 34          3\n",
       "Entrepreneur Community 30     3\n",
       "Manager Community 36          2\n",
       "Mobile Test                   2\n",
       "Manager Community 29          1\n",
       "Manager Community 9           1\n",
       "Entreprneuer Community 37     1\n",
       "Manager Community 37          1\n",
       "Entrepreneur Community 26     1\n",
       "Ernso Sylvain                 1\n",
       "UC TaroWorks Admin            1\n",
       "Name: Mobile User, dtype: int64"
      ]
     },
     "execution_count": 70,
     "metadata": {},
     "output_type": "execute_result"
    }
   ],
   "source": [
    "entrepreneur_filter_cash = sales[sales['product_name'] == 'Antreprenè Sistèm Filtraj ak Pye / Entrepreneur Filter']\n",
    "entrepreneur_filter_cash['Mobile User'].value_counts()"
   ]
  },
  {
   "cell_type": "code",
   "execution_count": 71,
   "id": "dfed2eaa",
   "metadata": {},
   "outputs": [
    {
     "data": {
      "text/plain": [
       "Fenson Cherenfant            59\n",
       "Manager Community 10         56\n",
       "Entrepreneur Community 25    17\n",
       "Entrepreneur Community 11    17\n",
       "Entrepreneur Community 20    16\n",
       "Ernso Sylvain                13\n",
       "Manager Community 36          6\n",
       "Entreprneuer Community 34     5\n",
       "Manager Community 32          4\n",
       "Entrepreneur Community 28     4\n",
       "Mobile Test                   4\n",
       "Manager Community 29          3\n",
       "Manager Community 25          3\n",
       "Entrepreneur Community 30     2\n",
       "Manager Community 34          2\n",
       "Entreprneuer Community 36     1\n",
       "Entrepreneur Community 29     1\n",
       "Manager Community 37          1\n",
       "Entreprneuer Community 37     1\n",
       "Entrepreneur Community 27     1\n",
       "Manager Community 33          1\n",
       "Name: Mobile User, dtype: int64"
      ]
     },
     "execution_count": 71,
     "metadata": {},
     "output_type": "execute_result"
    }
   ],
   "source": [
    "stove_cash = sales[sales['product_name'] == 'Recho / Stove']\n",
    "stove_cash['Mobile User'].value_counts()"
   ]
  },
  {
   "cell_type": "markdown",
   "id": "095d9fc8",
   "metadata": {},
   "source": [
    "# Export to PostgresSQL"
   ]
  },
  {
   "cell_type": "code",
   "execution_count": 72,
   "id": "a546280c",
   "metadata": {},
   "outputs": [
    {
     "ename": "OperationalError",
     "evalue": "(psycopg2.OperationalError) connection to server at \"localhost\" (::1), port 5432 failed: Connection refused\n\tIs the server running on that host and accepting TCP/IP connections?\nconnection to server at \"localhost\" (127.0.0.1), port 5432 failed: Connection refused\n\tIs the server running on that host and accepting TCP/IP connections?\n\n(Background on this error at: http://sqlalche.me/e/14/e3q8)",
     "output_type": "error",
     "traceback": [
      "\u001b[0;31m---------------------------------------------------------------------------\u001b[0m",
      "\u001b[0;31mOperationalError\u001b[0m                          Traceback (most recent call last)",
      "\u001b[0;32m~/opt/anaconda3/lib/python3.8/site-packages/sqlalchemy/engine/base.py\u001b[0m in \u001b[0;36m_wrap_pool_connect\u001b[0;34m(self, fn, connection)\u001b[0m\n\u001b[1;32m   3140\u001b[0m         \u001b[0;32mtry\u001b[0m\u001b[0;34m:\u001b[0m\u001b[0;34m\u001b[0m\u001b[0;34m\u001b[0m\u001b[0m\n\u001b[0;32m-> 3141\u001b[0;31m             \u001b[0;32mreturn\u001b[0m \u001b[0mfn\u001b[0m\u001b[0;34m(\u001b[0m\u001b[0;34m)\u001b[0m\u001b[0;34m\u001b[0m\u001b[0;34m\u001b[0m\u001b[0m\n\u001b[0m\u001b[1;32m   3142\u001b[0m         \u001b[0;32mexcept\u001b[0m \u001b[0mdialect\u001b[0m\u001b[0;34m.\u001b[0m\u001b[0mdbapi\u001b[0m\u001b[0;34m.\u001b[0m\u001b[0mError\u001b[0m \u001b[0;32mas\u001b[0m \u001b[0me\u001b[0m\u001b[0;34m:\u001b[0m\u001b[0;34m\u001b[0m\u001b[0;34m\u001b[0m\u001b[0m\n",
      "\u001b[0;32m~/opt/anaconda3/lib/python3.8/site-packages/sqlalchemy/pool/base.py\u001b[0m in \u001b[0;36mconnect\u001b[0;34m(self)\u001b[0m\n\u001b[1;32m    300\u001b[0m         \"\"\"\n\u001b[0;32m--> 301\u001b[0;31m         \u001b[0;32mreturn\u001b[0m \u001b[0m_ConnectionFairy\u001b[0m\u001b[0;34m.\u001b[0m\u001b[0m_checkout\u001b[0m\u001b[0;34m(\u001b[0m\u001b[0mself\u001b[0m\u001b[0;34m)\u001b[0m\u001b[0;34m\u001b[0m\u001b[0;34m\u001b[0m\u001b[0m\n\u001b[0m\u001b[1;32m    302\u001b[0m \u001b[0;34m\u001b[0m\u001b[0m\n",
      "\u001b[0;32m~/opt/anaconda3/lib/python3.8/site-packages/sqlalchemy/pool/base.py\u001b[0m in \u001b[0;36m_checkout\u001b[0;34m(cls, pool, threadconns, fairy)\u001b[0m\n\u001b[1;32m    754\u001b[0m         \u001b[0;32mif\u001b[0m \u001b[0;32mnot\u001b[0m \u001b[0mfairy\u001b[0m\u001b[0;34m:\u001b[0m\u001b[0;34m\u001b[0m\u001b[0;34m\u001b[0m\u001b[0m\n\u001b[0;32m--> 755\u001b[0;31m             \u001b[0mfairy\u001b[0m \u001b[0;34m=\u001b[0m \u001b[0m_ConnectionRecord\u001b[0m\u001b[0;34m.\u001b[0m\u001b[0mcheckout\u001b[0m\u001b[0;34m(\u001b[0m\u001b[0mpool\u001b[0m\u001b[0;34m)\u001b[0m\u001b[0;34m\u001b[0m\u001b[0;34m\u001b[0m\u001b[0m\n\u001b[0m\u001b[1;32m    756\u001b[0m \u001b[0;34m\u001b[0m\u001b[0m\n",
      "\u001b[0;32m~/opt/anaconda3/lib/python3.8/site-packages/sqlalchemy/pool/base.py\u001b[0m in \u001b[0;36mcheckout\u001b[0;34m(cls, pool)\u001b[0m\n\u001b[1;32m    418\u001b[0m     \u001b[0;32mdef\u001b[0m \u001b[0mcheckout\u001b[0m\u001b[0;34m(\u001b[0m\u001b[0mcls\u001b[0m\u001b[0;34m,\u001b[0m \u001b[0mpool\u001b[0m\u001b[0;34m)\u001b[0m\u001b[0;34m:\u001b[0m\u001b[0;34m\u001b[0m\u001b[0;34m\u001b[0m\u001b[0m\n\u001b[0;32m--> 419\u001b[0;31m         \u001b[0mrec\u001b[0m \u001b[0;34m=\u001b[0m \u001b[0mpool\u001b[0m\u001b[0;34m.\u001b[0m\u001b[0m_do_get\u001b[0m\u001b[0;34m(\u001b[0m\u001b[0;34m)\u001b[0m\u001b[0;34m\u001b[0m\u001b[0;34m\u001b[0m\u001b[0m\n\u001b[0m\u001b[1;32m    420\u001b[0m         \u001b[0;32mtry\u001b[0m\u001b[0;34m:\u001b[0m\u001b[0;34m\u001b[0m\u001b[0;34m\u001b[0m\u001b[0m\n",
      "\u001b[0;32m~/opt/anaconda3/lib/python3.8/site-packages/sqlalchemy/pool/impl.py\u001b[0m in \u001b[0;36m_do_get\u001b[0;34m(self)\u001b[0m\n\u001b[1;32m    144\u001b[0m                 \u001b[0;32mwith\u001b[0m \u001b[0mutil\u001b[0m\u001b[0;34m.\u001b[0m\u001b[0msafe_reraise\u001b[0m\u001b[0;34m(\u001b[0m\u001b[0;34m)\u001b[0m\u001b[0;34m:\u001b[0m\u001b[0;34m\u001b[0m\u001b[0;34m\u001b[0m\u001b[0m\n\u001b[0;32m--> 145\u001b[0;31m                     \u001b[0mself\u001b[0m\u001b[0;34m.\u001b[0m\u001b[0m_dec_overflow\u001b[0m\u001b[0;34m(\u001b[0m\u001b[0;34m)\u001b[0m\u001b[0;34m\u001b[0m\u001b[0;34m\u001b[0m\u001b[0m\n\u001b[0m\u001b[1;32m    146\u001b[0m         \u001b[0;32melse\u001b[0m\u001b[0;34m:\u001b[0m\u001b[0;34m\u001b[0m\u001b[0;34m\u001b[0m\u001b[0m\n",
      "\u001b[0;32m~/opt/anaconda3/lib/python3.8/site-packages/sqlalchemy/util/langhelpers.py\u001b[0m in \u001b[0;36m__exit__\u001b[0;34m(self, type_, value, traceback)\u001b[0m\n\u001b[1;32m     69\u001b[0m             \u001b[0;32mif\u001b[0m \u001b[0;32mnot\u001b[0m \u001b[0mself\u001b[0m\u001b[0;34m.\u001b[0m\u001b[0mwarn_only\u001b[0m\u001b[0;34m:\u001b[0m\u001b[0;34m\u001b[0m\u001b[0;34m\u001b[0m\u001b[0m\n\u001b[0;32m---> 70\u001b[0;31m                 compat.raise_(\n\u001b[0m\u001b[1;32m     71\u001b[0m                     \u001b[0mexc_value\u001b[0m\u001b[0;34m,\u001b[0m\u001b[0;34m\u001b[0m\u001b[0;34m\u001b[0m\u001b[0m\n",
      "\u001b[0;32m~/opt/anaconda3/lib/python3.8/site-packages/sqlalchemy/util/compat.py\u001b[0m in \u001b[0;36mraise_\u001b[0;34m(***failed resolving arguments***)\u001b[0m\n\u001b[1;32m    210\u001b[0m         \u001b[0;32mtry\u001b[0m\u001b[0;34m:\u001b[0m\u001b[0;34m\u001b[0m\u001b[0;34m\u001b[0m\u001b[0m\n\u001b[0;32m--> 211\u001b[0;31m             \u001b[0;32mraise\u001b[0m \u001b[0mexception\u001b[0m\u001b[0;34m\u001b[0m\u001b[0;34m\u001b[0m\u001b[0m\n\u001b[0m\u001b[1;32m    212\u001b[0m         \u001b[0;32mfinally\u001b[0m\u001b[0;34m:\u001b[0m\u001b[0;34m\u001b[0m\u001b[0;34m\u001b[0m\u001b[0m\n",
      "\u001b[0;32m~/opt/anaconda3/lib/python3.8/site-packages/sqlalchemy/pool/impl.py\u001b[0m in \u001b[0;36m_do_get\u001b[0;34m(self)\u001b[0m\n\u001b[1;32m    141\u001b[0m             \u001b[0;32mtry\u001b[0m\u001b[0;34m:\u001b[0m\u001b[0;34m\u001b[0m\u001b[0;34m\u001b[0m\u001b[0m\n\u001b[0;32m--> 142\u001b[0;31m                 \u001b[0;32mreturn\u001b[0m \u001b[0mself\u001b[0m\u001b[0;34m.\u001b[0m\u001b[0m_create_connection\u001b[0m\u001b[0;34m(\u001b[0m\u001b[0;34m)\u001b[0m\u001b[0;34m\u001b[0m\u001b[0;34m\u001b[0m\u001b[0m\n\u001b[0m\u001b[1;32m    143\u001b[0m             \u001b[0;32mexcept\u001b[0m\u001b[0;34m:\u001b[0m\u001b[0;34m\u001b[0m\u001b[0;34m\u001b[0m\u001b[0m\n",
      "\u001b[0;32m~/opt/anaconda3/lib/python3.8/site-packages/sqlalchemy/pool/base.py\u001b[0m in \u001b[0;36m_create_connection\u001b[0;34m(self)\u001b[0m\n\u001b[1;32m    246\u001b[0m \u001b[0;34m\u001b[0m\u001b[0m\n\u001b[0;32m--> 247\u001b[0;31m         \u001b[0;32mreturn\u001b[0m \u001b[0m_ConnectionRecord\u001b[0m\u001b[0;34m(\u001b[0m\u001b[0mself\u001b[0m\u001b[0;34m)\u001b[0m\u001b[0;34m\u001b[0m\u001b[0;34m\u001b[0m\u001b[0m\n\u001b[0m\u001b[1;32m    248\u001b[0m \u001b[0;34m\u001b[0m\u001b[0m\n",
      "\u001b[0;32m~/opt/anaconda3/lib/python3.8/site-packages/sqlalchemy/pool/base.py\u001b[0m in \u001b[0;36m__init__\u001b[0;34m(self, pool, connect)\u001b[0m\n\u001b[1;32m    361\u001b[0m         \u001b[0;32mif\u001b[0m \u001b[0mconnect\u001b[0m\u001b[0;34m:\u001b[0m\u001b[0;34m\u001b[0m\u001b[0;34m\u001b[0m\u001b[0m\n\u001b[0;32m--> 362\u001b[0;31m             \u001b[0mself\u001b[0m\u001b[0;34m.\u001b[0m\u001b[0m__connect\u001b[0m\u001b[0;34m(\u001b[0m\u001b[0mfirst_connect_check\u001b[0m\u001b[0;34m=\u001b[0m\u001b[0;32mTrue\u001b[0m\u001b[0;34m)\u001b[0m\u001b[0;34m\u001b[0m\u001b[0;34m\u001b[0m\u001b[0m\n\u001b[0m\u001b[1;32m    363\u001b[0m         \u001b[0mself\u001b[0m\u001b[0;34m.\u001b[0m\u001b[0mfinalize_callback\u001b[0m \u001b[0;34m=\u001b[0m \u001b[0mdeque\u001b[0m\u001b[0;34m(\u001b[0m\u001b[0;34m)\u001b[0m\u001b[0;34m\u001b[0m\u001b[0;34m\u001b[0m\u001b[0m\n",
      "\u001b[0;32m~/opt/anaconda3/lib/python3.8/site-packages/sqlalchemy/pool/base.py\u001b[0m in \u001b[0;36m__connect\u001b[0;34m(self, first_connect_check)\u001b[0m\n\u001b[1;32m    604\u001b[0m             \u001b[0;32mwith\u001b[0m \u001b[0mutil\u001b[0m\u001b[0;34m.\u001b[0m\u001b[0msafe_reraise\u001b[0m\u001b[0;34m(\u001b[0m\u001b[0;34m)\u001b[0m\u001b[0;34m:\u001b[0m\u001b[0;34m\u001b[0m\u001b[0;34m\u001b[0m\u001b[0m\n\u001b[0;32m--> 605\u001b[0;31m                 \u001b[0mpool\u001b[0m\u001b[0;34m.\u001b[0m\u001b[0mlogger\u001b[0m\u001b[0;34m.\u001b[0m\u001b[0mdebug\u001b[0m\u001b[0;34m(\u001b[0m\u001b[0;34m\"Error on connect(): %s\"\u001b[0m\u001b[0;34m,\u001b[0m \u001b[0me\u001b[0m\u001b[0;34m)\u001b[0m\u001b[0;34m\u001b[0m\u001b[0;34m\u001b[0m\u001b[0m\n\u001b[0m\u001b[1;32m    606\u001b[0m         \u001b[0;32melse\u001b[0m\u001b[0;34m:\u001b[0m\u001b[0;34m\u001b[0m\u001b[0;34m\u001b[0m\u001b[0m\n",
      "\u001b[0;32m~/opt/anaconda3/lib/python3.8/site-packages/sqlalchemy/util/langhelpers.py\u001b[0m in \u001b[0;36m__exit__\u001b[0;34m(self, type_, value, traceback)\u001b[0m\n\u001b[1;32m     69\u001b[0m             \u001b[0;32mif\u001b[0m \u001b[0;32mnot\u001b[0m \u001b[0mself\u001b[0m\u001b[0;34m.\u001b[0m\u001b[0mwarn_only\u001b[0m\u001b[0;34m:\u001b[0m\u001b[0;34m\u001b[0m\u001b[0;34m\u001b[0m\u001b[0m\n\u001b[0;32m---> 70\u001b[0;31m                 compat.raise_(\n\u001b[0m\u001b[1;32m     71\u001b[0m                     \u001b[0mexc_value\u001b[0m\u001b[0;34m,\u001b[0m\u001b[0;34m\u001b[0m\u001b[0;34m\u001b[0m\u001b[0m\n",
      "\u001b[0;32m~/opt/anaconda3/lib/python3.8/site-packages/sqlalchemy/util/compat.py\u001b[0m in \u001b[0;36mraise_\u001b[0;34m(***failed resolving arguments***)\u001b[0m\n\u001b[1;32m    210\u001b[0m         \u001b[0;32mtry\u001b[0m\u001b[0;34m:\u001b[0m\u001b[0;34m\u001b[0m\u001b[0;34m\u001b[0m\u001b[0m\n\u001b[0;32m--> 211\u001b[0;31m             \u001b[0;32mraise\u001b[0m \u001b[0mexception\u001b[0m\u001b[0;34m\u001b[0m\u001b[0;34m\u001b[0m\u001b[0m\n\u001b[0m\u001b[1;32m    212\u001b[0m         \u001b[0;32mfinally\u001b[0m\u001b[0;34m:\u001b[0m\u001b[0;34m\u001b[0m\u001b[0;34m\u001b[0m\u001b[0m\n",
      "\u001b[0;32m~/opt/anaconda3/lib/python3.8/site-packages/sqlalchemy/pool/base.py\u001b[0m in \u001b[0;36m__connect\u001b[0;34m(self, first_connect_check)\u001b[0m\n\u001b[1;32m    598\u001b[0m             \u001b[0mself\u001b[0m\u001b[0;34m.\u001b[0m\u001b[0mstarttime\u001b[0m \u001b[0;34m=\u001b[0m \u001b[0mtime\u001b[0m\u001b[0;34m.\u001b[0m\u001b[0mtime\u001b[0m\u001b[0;34m(\u001b[0m\u001b[0;34m)\u001b[0m\u001b[0;34m\u001b[0m\u001b[0;34m\u001b[0m\u001b[0m\n\u001b[0;32m--> 599\u001b[0;31m             \u001b[0mconnection\u001b[0m \u001b[0;34m=\u001b[0m \u001b[0mpool\u001b[0m\u001b[0;34m.\u001b[0m\u001b[0m_invoke_creator\u001b[0m\u001b[0;34m(\u001b[0m\u001b[0mself\u001b[0m\u001b[0;34m)\u001b[0m\u001b[0;34m\u001b[0m\u001b[0;34m\u001b[0m\u001b[0m\n\u001b[0m\u001b[1;32m    600\u001b[0m             \u001b[0mpool\u001b[0m\u001b[0;34m.\u001b[0m\u001b[0mlogger\u001b[0m\u001b[0;34m.\u001b[0m\u001b[0mdebug\u001b[0m\u001b[0;34m(\u001b[0m\u001b[0;34m\"Created new connection %r\"\u001b[0m\u001b[0;34m,\u001b[0m \u001b[0mconnection\u001b[0m\u001b[0;34m)\u001b[0m\u001b[0;34m\u001b[0m\u001b[0;34m\u001b[0m\u001b[0m\n",
      "\u001b[0;32m~/opt/anaconda3/lib/python3.8/site-packages/sqlalchemy/engine/create.py\u001b[0m in \u001b[0;36mconnect\u001b[0;34m(connection_record)\u001b[0m\n\u001b[1;32m    577\u001b[0m                         \u001b[0;32mreturn\u001b[0m \u001b[0mconnection\u001b[0m\u001b[0;34m\u001b[0m\u001b[0;34m\u001b[0m\u001b[0m\n\u001b[0;32m--> 578\u001b[0;31m             \u001b[0;32mreturn\u001b[0m \u001b[0mdialect\u001b[0m\u001b[0;34m.\u001b[0m\u001b[0mconnect\u001b[0m\u001b[0;34m(\u001b[0m\u001b[0;34m*\u001b[0m\u001b[0mcargs\u001b[0m\u001b[0;34m,\u001b[0m \u001b[0;34m**\u001b[0m\u001b[0mcparams\u001b[0m\u001b[0;34m)\u001b[0m\u001b[0;34m\u001b[0m\u001b[0;34m\u001b[0m\u001b[0m\n\u001b[0m\u001b[1;32m    579\u001b[0m \u001b[0;34m\u001b[0m\u001b[0m\n",
      "\u001b[0;32m~/opt/anaconda3/lib/python3.8/site-packages/sqlalchemy/engine/default.py\u001b[0m in \u001b[0;36mconnect\u001b[0;34m(self, *cargs, **cparams)\u001b[0m\n\u001b[1;32m    558\u001b[0m         \u001b[0;31m# inherits the docstring from interfaces.Dialect.connect\u001b[0m\u001b[0;34m\u001b[0m\u001b[0;34m\u001b[0m\u001b[0;34m\u001b[0m\u001b[0m\n\u001b[0;32m--> 559\u001b[0;31m         \u001b[0;32mreturn\u001b[0m \u001b[0mself\u001b[0m\u001b[0;34m.\u001b[0m\u001b[0mdbapi\u001b[0m\u001b[0;34m.\u001b[0m\u001b[0mconnect\u001b[0m\u001b[0;34m(\u001b[0m\u001b[0;34m*\u001b[0m\u001b[0mcargs\u001b[0m\u001b[0;34m,\u001b[0m \u001b[0;34m**\u001b[0m\u001b[0mcparams\u001b[0m\u001b[0;34m)\u001b[0m\u001b[0;34m\u001b[0m\u001b[0;34m\u001b[0m\u001b[0m\n\u001b[0m\u001b[1;32m    560\u001b[0m \u001b[0;34m\u001b[0m\u001b[0m\n",
      "\u001b[0;32m~/opt/anaconda3/lib/python3.8/site-packages/psycopg2/__init__.py\u001b[0m in \u001b[0;36mconnect\u001b[0;34m(dsn, connection_factory, cursor_factory, **kwargs)\u001b[0m\n\u001b[1;32m    121\u001b[0m     \u001b[0mdsn\u001b[0m \u001b[0;34m=\u001b[0m \u001b[0m_ext\u001b[0m\u001b[0;34m.\u001b[0m\u001b[0mmake_dsn\u001b[0m\u001b[0;34m(\u001b[0m\u001b[0mdsn\u001b[0m\u001b[0;34m,\u001b[0m \u001b[0;34m**\u001b[0m\u001b[0mkwargs\u001b[0m\u001b[0;34m)\u001b[0m\u001b[0;34m\u001b[0m\u001b[0;34m\u001b[0m\u001b[0m\n\u001b[0;32m--> 122\u001b[0;31m     \u001b[0mconn\u001b[0m \u001b[0;34m=\u001b[0m \u001b[0m_connect\u001b[0m\u001b[0;34m(\u001b[0m\u001b[0mdsn\u001b[0m\u001b[0;34m,\u001b[0m \u001b[0mconnection_factory\u001b[0m\u001b[0;34m=\u001b[0m\u001b[0mconnection_factory\u001b[0m\u001b[0;34m,\u001b[0m \u001b[0;34m**\u001b[0m\u001b[0mkwasync\u001b[0m\u001b[0;34m)\u001b[0m\u001b[0;34m\u001b[0m\u001b[0;34m\u001b[0m\u001b[0m\n\u001b[0m\u001b[1;32m    123\u001b[0m     \u001b[0;32mif\u001b[0m \u001b[0mcursor_factory\u001b[0m \u001b[0;32mis\u001b[0m \u001b[0;32mnot\u001b[0m \u001b[0;32mNone\u001b[0m\u001b[0;34m:\u001b[0m\u001b[0;34m\u001b[0m\u001b[0;34m\u001b[0m\u001b[0m\n",
      "\u001b[0;31mOperationalError\u001b[0m: connection to server at \"localhost\" (::1), port 5432 failed: Connection refused\n\tIs the server running on that host and accepting TCP/IP connections?\nconnection to server at \"localhost\" (127.0.0.1), port 5432 failed: Connection refused\n\tIs the server running on that host and accepting TCP/IP connections?\n",
      "\nThe above exception was the direct cause of the following exception:\n",
      "\u001b[0;31mOperationalError\u001b[0m                          Traceback (most recent call last)",
      "\u001b[0;32m/var/folders/y5/7j8s16kd01l2j3hbbbhp4rpr0000gn/T/ipykernel_10829/3214542452.py\u001b[0m in \u001b[0;36m<module>\u001b[0;34m\u001b[0m\n\u001b[1;32m      3\u001b[0m \u001b[0mengine\u001b[0m \u001b[0;34m=\u001b[0m \u001b[0mcreate_engine\u001b[0m\u001b[0;34m(\u001b[0m\u001b[0;34mf'postgresql://localhost:5432/iaapi'\u001b[0m\u001b[0;34m)\u001b[0m\u001b[0;34m\u001b[0m\u001b[0;34m\u001b[0m\u001b[0m\n\u001b[1;32m      4\u001b[0m \u001b[0;34m\u001b[0m\u001b[0m\n\u001b[0;32m----> 5\u001b[0;31m \u001b[0mconnection\u001b[0m \u001b[0;34m=\u001b[0m \u001b[0mengine\u001b[0m\u001b[0;34m.\u001b[0m\u001b[0mconnect\u001b[0m\u001b[0;34m(\u001b[0m\u001b[0;34m)\u001b[0m\u001b[0;34m\u001b[0m\u001b[0;34m\u001b[0m\u001b[0m\n\u001b[0m\u001b[1;32m      6\u001b[0m \u001b[0;34m\u001b[0m\u001b[0m\n\u001b[1;32m      7\u001b[0m \u001b[0msales\u001b[0m\u001b[0;34m.\u001b[0m\u001b[0mto_sql\u001b[0m\u001b[0;34m(\u001b[0m\u001b[0;34m'cash_sales_data'\u001b[0m\u001b[0;34m,\u001b[0m \u001b[0mconnection\u001b[0m\u001b[0;34m,\u001b[0m \u001b[0mif_exists\u001b[0m\u001b[0;34m=\u001b[0m\u001b[0;34m'replace'\u001b[0m\u001b[0;34m,\u001b[0m \u001b[0mindex\u001b[0m\u001b[0;34m=\u001b[0m\u001b[0;32mFalse\u001b[0m\u001b[0;34m,\u001b[0m \u001b[0mchunksize\u001b[0m\u001b[0;34m=\u001b[0m\u001b[0;36m10\u001b[0m\u001b[0;34m)\u001b[0m\u001b[0;34m\u001b[0m\u001b[0;34m\u001b[0m\u001b[0m\n",
      "\u001b[0;32m~/opt/anaconda3/lib/python3.8/site-packages/sqlalchemy/engine/base.py\u001b[0m in \u001b[0;36mconnect\u001b[0;34m(self, close_with_result)\u001b[0m\n\u001b[1;32m   3093\u001b[0m         \"\"\"\n\u001b[1;32m   3094\u001b[0m \u001b[0;34m\u001b[0m\u001b[0m\n\u001b[0;32m-> 3095\u001b[0;31m         \u001b[0;32mreturn\u001b[0m \u001b[0mself\u001b[0m\u001b[0;34m.\u001b[0m\u001b[0m_connection_cls\u001b[0m\u001b[0;34m(\u001b[0m\u001b[0mself\u001b[0m\u001b[0;34m,\u001b[0m \u001b[0mclose_with_result\u001b[0m\u001b[0;34m=\u001b[0m\u001b[0mclose_with_result\u001b[0m\u001b[0;34m)\u001b[0m\u001b[0;34m\u001b[0m\u001b[0;34m\u001b[0m\u001b[0m\n\u001b[0m\u001b[1;32m   3096\u001b[0m \u001b[0;34m\u001b[0m\u001b[0m\n\u001b[1;32m   3097\u001b[0m     @util.deprecated(\n",
      "\u001b[0;32m~/opt/anaconda3/lib/python3.8/site-packages/sqlalchemy/engine/base.py\u001b[0m in \u001b[0;36m__init__\u001b[0;34m(self, engine, connection, close_with_result, _branch_from, _execution_options, _dispatch, _has_events)\u001b[0m\n\u001b[1;32m     89\u001b[0m                 \u001b[0mconnection\u001b[0m\u001b[0;34m\u001b[0m\u001b[0;34m\u001b[0m\u001b[0m\n\u001b[1;32m     90\u001b[0m                 \u001b[0;32mif\u001b[0m \u001b[0mconnection\u001b[0m \u001b[0;32mis\u001b[0m \u001b[0;32mnot\u001b[0m \u001b[0;32mNone\u001b[0m\u001b[0;34m\u001b[0m\u001b[0;34m\u001b[0m\u001b[0m\n\u001b[0;32m---> 91\u001b[0;31m                 \u001b[0;32melse\u001b[0m \u001b[0mengine\u001b[0m\u001b[0;34m.\u001b[0m\u001b[0mraw_connection\u001b[0m\u001b[0;34m(\u001b[0m\u001b[0;34m)\u001b[0m\u001b[0;34m\u001b[0m\u001b[0;34m\u001b[0m\u001b[0m\n\u001b[0m\u001b[1;32m     92\u001b[0m             )\n\u001b[1;32m     93\u001b[0m \u001b[0;34m\u001b[0m\u001b[0m\n",
      "\u001b[0;32m~/opt/anaconda3/lib/python3.8/site-packages/sqlalchemy/engine/base.py\u001b[0m in \u001b[0;36mraw_connection\u001b[0;34m(self, _connection)\u001b[0m\n\u001b[1;32m   3172\u001b[0m \u001b[0;34m\u001b[0m\u001b[0m\n\u001b[1;32m   3173\u001b[0m         \"\"\"\n\u001b[0;32m-> 3174\u001b[0;31m         \u001b[0;32mreturn\u001b[0m \u001b[0mself\u001b[0m\u001b[0;34m.\u001b[0m\u001b[0m_wrap_pool_connect\u001b[0m\u001b[0;34m(\u001b[0m\u001b[0mself\u001b[0m\u001b[0;34m.\u001b[0m\u001b[0mpool\u001b[0m\u001b[0;34m.\u001b[0m\u001b[0mconnect\u001b[0m\u001b[0;34m,\u001b[0m \u001b[0m_connection\u001b[0m\u001b[0;34m)\u001b[0m\u001b[0;34m\u001b[0m\u001b[0;34m\u001b[0m\u001b[0m\n\u001b[0m\u001b[1;32m   3175\u001b[0m \u001b[0;34m\u001b[0m\u001b[0m\n\u001b[1;32m   3176\u001b[0m \u001b[0;34m\u001b[0m\u001b[0m\n",
      "\u001b[0;32m~/opt/anaconda3/lib/python3.8/site-packages/sqlalchemy/engine/base.py\u001b[0m in \u001b[0;36m_wrap_pool_connect\u001b[0;34m(self, fn, connection)\u001b[0m\n\u001b[1;32m   3142\u001b[0m         \u001b[0;32mexcept\u001b[0m \u001b[0mdialect\u001b[0m\u001b[0;34m.\u001b[0m\u001b[0mdbapi\u001b[0m\u001b[0;34m.\u001b[0m\u001b[0mError\u001b[0m \u001b[0;32mas\u001b[0m \u001b[0me\u001b[0m\u001b[0;34m:\u001b[0m\u001b[0;34m\u001b[0m\u001b[0;34m\u001b[0m\u001b[0m\n\u001b[1;32m   3143\u001b[0m             \u001b[0;32mif\u001b[0m \u001b[0mconnection\u001b[0m \u001b[0;32mis\u001b[0m \u001b[0;32mNone\u001b[0m\u001b[0;34m:\u001b[0m\u001b[0;34m\u001b[0m\u001b[0;34m\u001b[0m\u001b[0m\n\u001b[0;32m-> 3144\u001b[0;31m                 Connection._handle_dbapi_exception_noconnection(\n\u001b[0m\u001b[1;32m   3145\u001b[0m                     \u001b[0me\u001b[0m\u001b[0;34m,\u001b[0m \u001b[0mdialect\u001b[0m\u001b[0;34m,\u001b[0m \u001b[0mself\u001b[0m\u001b[0;34m\u001b[0m\u001b[0;34m\u001b[0m\u001b[0m\n\u001b[1;32m   3146\u001b[0m                 )\n",
      "\u001b[0;32m~/opt/anaconda3/lib/python3.8/site-packages/sqlalchemy/engine/base.py\u001b[0m in \u001b[0;36m_handle_dbapi_exception_noconnection\u001b[0;34m(cls, e, dialect, engine)\u001b[0m\n\u001b[1;32m   2001\u001b[0m             \u001b[0mutil\u001b[0m\u001b[0;34m.\u001b[0m\u001b[0mraise_\u001b[0m\u001b[0;34m(\u001b[0m\u001b[0mnewraise\u001b[0m\u001b[0;34m,\u001b[0m \u001b[0mwith_traceback\u001b[0m\u001b[0;34m=\u001b[0m\u001b[0mexc_info\u001b[0m\u001b[0;34m[\u001b[0m\u001b[0;36m2\u001b[0m\u001b[0;34m]\u001b[0m\u001b[0;34m,\u001b[0m \u001b[0mfrom_\u001b[0m\u001b[0;34m=\u001b[0m\u001b[0me\u001b[0m\u001b[0;34m)\u001b[0m\u001b[0;34m\u001b[0m\u001b[0;34m\u001b[0m\u001b[0m\n\u001b[1;32m   2002\u001b[0m         \u001b[0;32melif\u001b[0m \u001b[0mshould_wrap\u001b[0m\u001b[0;34m:\u001b[0m\u001b[0;34m\u001b[0m\u001b[0;34m\u001b[0m\u001b[0m\n\u001b[0;32m-> 2003\u001b[0;31m             util.raise_(\n\u001b[0m\u001b[1;32m   2004\u001b[0m                 \u001b[0msqlalchemy_exception\u001b[0m\u001b[0;34m,\u001b[0m \u001b[0mwith_traceback\u001b[0m\u001b[0;34m=\u001b[0m\u001b[0mexc_info\u001b[0m\u001b[0;34m[\u001b[0m\u001b[0;36m2\u001b[0m\u001b[0;34m]\u001b[0m\u001b[0;34m,\u001b[0m \u001b[0mfrom_\u001b[0m\u001b[0;34m=\u001b[0m\u001b[0me\u001b[0m\u001b[0;34m\u001b[0m\u001b[0;34m\u001b[0m\u001b[0m\n\u001b[1;32m   2005\u001b[0m             )\n",
      "\u001b[0;32m~/opt/anaconda3/lib/python3.8/site-packages/sqlalchemy/util/compat.py\u001b[0m in \u001b[0;36mraise_\u001b[0;34m(***failed resolving arguments***)\u001b[0m\n\u001b[1;32m    209\u001b[0m \u001b[0;34m\u001b[0m\u001b[0m\n\u001b[1;32m    210\u001b[0m         \u001b[0;32mtry\u001b[0m\u001b[0;34m:\u001b[0m\u001b[0;34m\u001b[0m\u001b[0;34m\u001b[0m\u001b[0m\n\u001b[0;32m--> 211\u001b[0;31m             \u001b[0;32mraise\u001b[0m \u001b[0mexception\u001b[0m\u001b[0;34m\u001b[0m\u001b[0;34m\u001b[0m\u001b[0m\n\u001b[0m\u001b[1;32m    212\u001b[0m         \u001b[0;32mfinally\u001b[0m\u001b[0;34m:\u001b[0m\u001b[0;34m\u001b[0m\u001b[0;34m\u001b[0m\u001b[0m\n\u001b[1;32m    213\u001b[0m             \u001b[0;31m# credit to\u001b[0m\u001b[0;34m\u001b[0m\u001b[0;34m\u001b[0m\u001b[0;34m\u001b[0m\u001b[0m\n",
      "\u001b[0;32m~/opt/anaconda3/lib/python3.8/site-packages/sqlalchemy/engine/base.py\u001b[0m in \u001b[0;36m_wrap_pool_connect\u001b[0;34m(self, fn, connection)\u001b[0m\n\u001b[1;32m   3139\u001b[0m         \u001b[0mdialect\u001b[0m \u001b[0;34m=\u001b[0m \u001b[0mself\u001b[0m\u001b[0;34m.\u001b[0m\u001b[0mdialect\u001b[0m\u001b[0;34m\u001b[0m\u001b[0;34m\u001b[0m\u001b[0m\n\u001b[1;32m   3140\u001b[0m         \u001b[0;32mtry\u001b[0m\u001b[0;34m:\u001b[0m\u001b[0;34m\u001b[0m\u001b[0;34m\u001b[0m\u001b[0m\n\u001b[0;32m-> 3141\u001b[0;31m             \u001b[0;32mreturn\u001b[0m \u001b[0mfn\u001b[0m\u001b[0;34m(\u001b[0m\u001b[0;34m)\u001b[0m\u001b[0;34m\u001b[0m\u001b[0;34m\u001b[0m\u001b[0m\n\u001b[0m\u001b[1;32m   3142\u001b[0m         \u001b[0;32mexcept\u001b[0m \u001b[0mdialect\u001b[0m\u001b[0;34m.\u001b[0m\u001b[0mdbapi\u001b[0m\u001b[0;34m.\u001b[0m\u001b[0mError\u001b[0m \u001b[0;32mas\u001b[0m \u001b[0me\u001b[0m\u001b[0;34m:\u001b[0m\u001b[0;34m\u001b[0m\u001b[0;34m\u001b[0m\u001b[0m\n\u001b[1;32m   3143\u001b[0m             \u001b[0;32mif\u001b[0m \u001b[0mconnection\u001b[0m \u001b[0;32mis\u001b[0m \u001b[0;32mNone\u001b[0m\u001b[0;34m:\u001b[0m\u001b[0;34m\u001b[0m\u001b[0;34m\u001b[0m\u001b[0m\n",
      "\u001b[0;32m~/opt/anaconda3/lib/python3.8/site-packages/sqlalchemy/pool/base.py\u001b[0m in \u001b[0;36mconnect\u001b[0;34m(self)\u001b[0m\n\u001b[1;32m    299\u001b[0m \u001b[0;34m\u001b[0m\u001b[0m\n\u001b[1;32m    300\u001b[0m         \"\"\"\n\u001b[0;32m--> 301\u001b[0;31m         \u001b[0;32mreturn\u001b[0m \u001b[0m_ConnectionFairy\u001b[0m\u001b[0;34m.\u001b[0m\u001b[0m_checkout\u001b[0m\u001b[0;34m(\u001b[0m\u001b[0mself\u001b[0m\u001b[0;34m)\u001b[0m\u001b[0;34m\u001b[0m\u001b[0;34m\u001b[0m\u001b[0m\n\u001b[0m\u001b[1;32m    302\u001b[0m \u001b[0;34m\u001b[0m\u001b[0m\n\u001b[1;32m    303\u001b[0m     \u001b[0;32mdef\u001b[0m \u001b[0m_return_conn\u001b[0m\u001b[0;34m(\u001b[0m\u001b[0mself\u001b[0m\u001b[0;34m,\u001b[0m \u001b[0mrecord\u001b[0m\u001b[0;34m)\u001b[0m\u001b[0;34m:\u001b[0m\u001b[0;34m\u001b[0m\u001b[0;34m\u001b[0m\u001b[0m\n",
      "\u001b[0;32m~/opt/anaconda3/lib/python3.8/site-packages/sqlalchemy/pool/base.py\u001b[0m in \u001b[0;36m_checkout\u001b[0;34m(cls, pool, threadconns, fairy)\u001b[0m\n\u001b[1;32m    753\u001b[0m     \u001b[0;32mdef\u001b[0m \u001b[0m_checkout\u001b[0m\u001b[0;34m(\u001b[0m\u001b[0mcls\u001b[0m\u001b[0;34m,\u001b[0m \u001b[0mpool\u001b[0m\u001b[0;34m,\u001b[0m \u001b[0mthreadconns\u001b[0m\u001b[0;34m=\u001b[0m\u001b[0;32mNone\u001b[0m\u001b[0;34m,\u001b[0m \u001b[0mfairy\u001b[0m\u001b[0;34m=\u001b[0m\u001b[0;32mNone\u001b[0m\u001b[0;34m)\u001b[0m\u001b[0;34m:\u001b[0m\u001b[0;34m\u001b[0m\u001b[0;34m\u001b[0m\u001b[0m\n\u001b[1;32m    754\u001b[0m         \u001b[0;32mif\u001b[0m \u001b[0;32mnot\u001b[0m \u001b[0mfairy\u001b[0m\u001b[0;34m:\u001b[0m\u001b[0;34m\u001b[0m\u001b[0;34m\u001b[0m\u001b[0m\n\u001b[0;32m--> 755\u001b[0;31m             \u001b[0mfairy\u001b[0m \u001b[0;34m=\u001b[0m \u001b[0m_ConnectionRecord\u001b[0m\u001b[0;34m.\u001b[0m\u001b[0mcheckout\u001b[0m\u001b[0;34m(\u001b[0m\u001b[0mpool\u001b[0m\u001b[0;34m)\u001b[0m\u001b[0;34m\u001b[0m\u001b[0;34m\u001b[0m\u001b[0m\n\u001b[0m\u001b[1;32m    756\u001b[0m \u001b[0;34m\u001b[0m\u001b[0m\n\u001b[1;32m    757\u001b[0m             \u001b[0mfairy\u001b[0m\u001b[0;34m.\u001b[0m\u001b[0m_pool\u001b[0m \u001b[0;34m=\u001b[0m \u001b[0mpool\u001b[0m\u001b[0;34m\u001b[0m\u001b[0;34m\u001b[0m\u001b[0m\n",
      "\u001b[0;32m~/opt/anaconda3/lib/python3.8/site-packages/sqlalchemy/pool/base.py\u001b[0m in \u001b[0;36mcheckout\u001b[0;34m(cls, pool)\u001b[0m\n\u001b[1;32m    417\u001b[0m     \u001b[0;34m@\u001b[0m\u001b[0mclassmethod\u001b[0m\u001b[0;34m\u001b[0m\u001b[0;34m\u001b[0m\u001b[0m\n\u001b[1;32m    418\u001b[0m     \u001b[0;32mdef\u001b[0m \u001b[0mcheckout\u001b[0m\u001b[0;34m(\u001b[0m\u001b[0mcls\u001b[0m\u001b[0;34m,\u001b[0m \u001b[0mpool\u001b[0m\u001b[0;34m)\u001b[0m\u001b[0;34m:\u001b[0m\u001b[0;34m\u001b[0m\u001b[0;34m\u001b[0m\u001b[0m\n\u001b[0;32m--> 419\u001b[0;31m         \u001b[0mrec\u001b[0m \u001b[0;34m=\u001b[0m \u001b[0mpool\u001b[0m\u001b[0;34m.\u001b[0m\u001b[0m_do_get\u001b[0m\u001b[0;34m(\u001b[0m\u001b[0;34m)\u001b[0m\u001b[0;34m\u001b[0m\u001b[0;34m\u001b[0m\u001b[0m\n\u001b[0m\u001b[1;32m    420\u001b[0m         \u001b[0;32mtry\u001b[0m\u001b[0;34m:\u001b[0m\u001b[0;34m\u001b[0m\u001b[0;34m\u001b[0m\u001b[0m\n\u001b[1;32m    421\u001b[0m             \u001b[0mdbapi_connection\u001b[0m \u001b[0;34m=\u001b[0m \u001b[0mrec\u001b[0m\u001b[0;34m.\u001b[0m\u001b[0mget_connection\u001b[0m\u001b[0;34m(\u001b[0m\u001b[0;34m)\u001b[0m\u001b[0;34m\u001b[0m\u001b[0;34m\u001b[0m\u001b[0m\n",
      "\u001b[0;32m~/opt/anaconda3/lib/python3.8/site-packages/sqlalchemy/pool/impl.py\u001b[0m in \u001b[0;36m_do_get\u001b[0;34m(self)\u001b[0m\n\u001b[1;32m    143\u001b[0m             \u001b[0;32mexcept\u001b[0m\u001b[0;34m:\u001b[0m\u001b[0;34m\u001b[0m\u001b[0;34m\u001b[0m\u001b[0m\n\u001b[1;32m    144\u001b[0m                 \u001b[0;32mwith\u001b[0m \u001b[0mutil\u001b[0m\u001b[0;34m.\u001b[0m\u001b[0msafe_reraise\u001b[0m\u001b[0;34m(\u001b[0m\u001b[0;34m)\u001b[0m\u001b[0;34m:\u001b[0m\u001b[0;34m\u001b[0m\u001b[0;34m\u001b[0m\u001b[0m\n\u001b[0;32m--> 145\u001b[0;31m                     \u001b[0mself\u001b[0m\u001b[0;34m.\u001b[0m\u001b[0m_dec_overflow\u001b[0m\u001b[0;34m(\u001b[0m\u001b[0;34m)\u001b[0m\u001b[0;34m\u001b[0m\u001b[0;34m\u001b[0m\u001b[0m\n\u001b[0m\u001b[1;32m    146\u001b[0m         \u001b[0;32melse\u001b[0m\u001b[0;34m:\u001b[0m\u001b[0;34m\u001b[0m\u001b[0;34m\u001b[0m\u001b[0m\n\u001b[1;32m    147\u001b[0m             \u001b[0;32mreturn\u001b[0m \u001b[0mself\u001b[0m\u001b[0;34m.\u001b[0m\u001b[0m_do_get\u001b[0m\u001b[0;34m(\u001b[0m\u001b[0;34m)\u001b[0m\u001b[0;34m\u001b[0m\u001b[0;34m\u001b[0m\u001b[0m\n",
      "\u001b[0;32m~/opt/anaconda3/lib/python3.8/site-packages/sqlalchemy/util/langhelpers.py\u001b[0m in \u001b[0;36m__exit__\u001b[0;34m(self, type_, value, traceback)\u001b[0m\n\u001b[1;32m     68\u001b[0m             \u001b[0mself\u001b[0m\u001b[0;34m.\u001b[0m\u001b[0m_exc_info\u001b[0m \u001b[0;34m=\u001b[0m \u001b[0;32mNone\u001b[0m  \u001b[0;31m# remove potential circular references\u001b[0m\u001b[0;34m\u001b[0m\u001b[0;34m\u001b[0m\u001b[0m\n\u001b[1;32m     69\u001b[0m             \u001b[0;32mif\u001b[0m \u001b[0;32mnot\u001b[0m \u001b[0mself\u001b[0m\u001b[0;34m.\u001b[0m\u001b[0mwarn_only\u001b[0m\u001b[0;34m:\u001b[0m\u001b[0;34m\u001b[0m\u001b[0;34m\u001b[0m\u001b[0m\n\u001b[0;32m---> 70\u001b[0;31m                 compat.raise_(\n\u001b[0m\u001b[1;32m     71\u001b[0m                     \u001b[0mexc_value\u001b[0m\u001b[0;34m,\u001b[0m\u001b[0;34m\u001b[0m\u001b[0;34m\u001b[0m\u001b[0m\n\u001b[1;32m     72\u001b[0m                     \u001b[0mwith_traceback\u001b[0m\u001b[0;34m=\u001b[0m\u001b[0mexc_tb\u001b[0m\u001b[0;34m,\u001b[0m\u001b[0;34m\u001b[0m\u001b[0;34m\u001b[0m\u001b[0m\n",
      "\u001b[0;32m~/opt/anaconda3/lib/python3.8/site-packages/sqlalchemy/util/compat.py\u001b[0m in \u001b[0;36mraise_\u001b[0;34m(***failed resolving arguments***)\u001b[0m\n\u001b[1;32m    209\u001b[0m \u001b[0;34m\u001b[0m\u001b[0m\n\u001b[1;32m    210\u001b[0m         \u001b[0;32mtry\u001b[0m\u001b[0;34m:\u001b[0m\u001b[0;34m\u001b[0m\u001b[0;34m\u001b[0m\u001b[0m\n\u001b[0;32m--> 211\u001b[0;31m             \u001b[0;32mraise\u001b[0m \u001b[0mexception\u001b[0m\u001b[0;34m\u001b[0m\u001b[0;34m\u001b[0m\u001b[0m\n\u001b[0m\u001b[1;32m    212\u001b[0m         \u001b[0;32mfinally\u001b[0m\u001b[0;34m:\u001b[0m\u001b[0;34m\u001b[0m\u001b[0;34m\u001b[0m\u001b[0m\n\u001b[1;32m    213\u001b[0m             \u001b[0;31m# credit to\u001b[0m\u001b[0;34m\u001b[0m\u001b[0;34m\u001b[0m\u001b[0;34m\u001b[0m\u001b[0m\n",
      "\u001b[0;32m~/opt/anaconda3/lib/python3.8/site-packages/sqlalchemy/pool/impl.py\u001b[0m in \u001b[0;36m_do_get\u001b[0;34m(self)\u001b[0m\n\u001b[1;32m    140\u001b[0m         \u001b[0;32mif\u001b[0m \u001b[0mself\u001b[0m\u001b[0;34m.\u001b[0m\u001b[0m_inc_overflow\u001b[0m\u001b[0;34m(\u001b[0m\u001b[0;34m)\u001b[0m\u001b[0;34m:\u001b[0m\u001b[0;34m\u001b[0m\u001b[0;34m\u001b[0m\u001b[0m\n\u001b[1;32m    141\u001b[0m             \u001b[0;32mtry\u001b[0m\u001b[0;34m:\u001b[0m\u001b[0;34m\u001b[0m\u001b[0;34m\u001b[0m\u001b[0m\n\u001b[0;32m--> 142\u001b[0;31m                 \u001b[0;32mreturn\u001b[0m \u001b[0mself\u001b[0m\u001b[0;34m.\u001b[0m\u001b[0m_create_connection\u001b[0m\u001b[0;34m(\u001b[0m\u001b[0;34m)\u001b[0m\u001b[0;34m\u001b[0m\u001b[0;34m\u001b[0m\u001b[0m\n\u001b[0m\u001b[1;32m    143\u001b[0m             \u001b[0;32mexcept\u001b[0m\u001b[0;34m:\u001b[0m\u001b[0;34m\u001b[0m\u001b[0;34m\u001b[0m\u001b[0m\n\u001b[1;32m    144\u001b[0m                 \u001b[0;32mwith\u001b[0m \u001b[0mutil\u001b[0m\u001b[0;34m.\u001b[0m\u001b[0msafe_reraise\u001b[0m\u001b[0;34m(\u001b[0m\u001b[0;34m)\u001b[0m\u001b[0;34m:\u001b[0m\u001b[0;34m\u001b[0m\u001b[0;34m\u001b[0m\u001b[0m\n",
      "\u001b[0;32m~/opt/anaconda3/lib/python3.8/site-packages/sqlalchemy/pool/base.py\u001b[0m in \u001b[0;36m_create_connection\u001b[0;34m(self)\u001b[0m\n\u001b[1;32m    245\u001b[0m         \u001b[0;34m\"\"\"Called by subclasses to create a new ConnectionRecord.\"\"\"\u001b[0m\u001b[0;34m\u001b[0m\u001b[0;34m\u001b[0m\u001b[0m\n\u001b[1;32m    246\u001b[0m \u001b[0;34m\u001b[0m\u001b[0m\n\u001b[0;32m--> 247\u001b[0;31m         \u001b[0;32mreturn\u001b[0m \u001b[0m_ConnectionRecord\u001b[0m\u001b[0;34m(\u001b[0m\u001b[0mself\u001b[0m\u001b[0;34m)\u001b[0m\u001b[0;34m\u001b[0m\u001b[0;34m\u001b[0m\u001b[0m\n\u001b[0m\u001b[1;32m    248\u001b[0m \u001b[0;34m\u001b[0m\u001b[0m\n\u001b[1;32m    249\u001b[0m     \u001b[0;32mdef\u001b[0m \u001b[0m_invalidate\u001b[0m\u001b[0;34m(\u001b[0m\u001b[0mself\u001b[0m\u001b[0;34m,\u001b[0m \u001b[0mconnection\u001b[0m\u001b[0;34m,\u001b[0m \u001b[0mexception\u001b[0m\u001b[0;34m=\u001b[0m\u001b[0;32mNone\u001b[0m\u001b[0;34m,\u001b[0m \u001b[0m_checkin\u001b[0m\u001b[0;34m=\u001b[0m\u001b[0;32mTrue\u001b[0m\u001b[0;34m)\u001b[0m\u001b[0;34m:\u001b[0m\u001b[0;34m\u001b[0m\u001b[0;34m\u001b[0m\u001b[0m\n",
      "\u001b[0;32m~/opt/anaconda3/lib/python3.8/site-packages/sqlalchemy/pool/base.py\u001b[0m in \u001b[0;36m__init__\u001b[0;34m(self, pool, connect)\u001b[0m\n\u001b[1;32m    360\u001b[0m         \u001b[0mself\u001b[0m\u001b[0;34m.\u001b[0m\u001b[0m__pool\u001b[0m \u001b[0;34m=\u001b[0m \u001b[0mpool\u001b[0m\u001b[0;34m\u001b[0m\u001b[0;34m\u001b[0m\u001b[0m\n\u001b[1;32m    361\u001b[0m         \u001b[0;32mif\u001b[0m \u001b[0mconnect\u001b[0m\u001b[0;34m:\u001b[0m\u001b[0;34m\u001b[0m\u001b[0;34m\u001b[0m\u001b[0m\n\u001b[0;32m--> 362\u001b[0;31m             \u001b[0mself\u001b[0m\u001b[0;34m.\u001b[0m\u001b[0m__connect\u001b[0m\u001b[0;34m(\u001b[0m\u001b[0mfirst_connect_check\u001b[0m\u001b[0;34m=\u001b[0m\u001b[0;32mTrue\u001b[0m\u001b[0;34m)\u001b[0m\u001b[0;34m\u001b[0m\u001b[0;34m\u001b[0m\u001b[0m\n\u001b[0m\u001b[1;32m    363\u001b[0m         \u001b[0mself\u001b[0m\u001b[0;34m.\u001b[0m\u001b[0mfinalize_callback\u001b[0m \u001b[0;34m=\u001b[0m \u001b[0mdeque\u001b[0m\u001b[0;34m(\u001b[0m\u001b[0;34m)\u001b[0m\u001b[0;34m\u001b[0m\u001b[0;34m\u001b[0m\u001b[0m\n\u001b[1;32m    364\u001b[0m \u001b[0;34m\u001b[0m\u001b[0m\n",
      "\u001b[0;32m~/opt/anaconda3/lib/python3.8/site-packages/sqlalchemy/pool/base.py\u001b[0m in \u001b[0;36m__connect\u001b[0;34m(self, first_connect_check)\u001b[0m\n\u001b[1;32m    603\u001b[0m         \u001b[0;32mexcept\u001b[0m \u001b[0mException\u001b[0m \u001b[0;32mas\u001b[0m \u001b[0me\u001b[0m\u001b[0;34m:\u001b[0m\u001b[0;34m\u001b[0m\u001b[0;34m\u001b[0m\u001b[0m\n\u001b[1;32m    604\u001b[0m             \u001b[0;32mwith\u001b[0m \u001b[0mutil\u001b[0m\u001b[0;34m.\u001b[0m\u001b[0msafe_reraise\u001b[0m\u001b[0;34m(\u001b[0m\u001b[0;34m)\u001b[0m\u001b[0;34m:\u001b[0m\u001b[0;34m\u001b[0m\u001b[0;34m\u001b[0m\u001b[0m\n\u001b[0;32m--> 605\u001b[0;31m                 \u001b[0mpool\u001b[0m\u001b[0;34m.\u001b[0m\u001b[0mlogger\u001b[0m\u001b[0;34m.\u001b[0m\u001b[0mdebug\u001b[0m\u001b[0;34m(\u001b[0m\u001b[0;34m\"Error on connect(): %s\"\u001b[0m\u001b[0;34m,\u001b[0m \u001b[0me\u001b[0m\u001b[0;34m)\u001b[0m\u001b[0;34m\u001b[0m\u001b[0;34m\u001b[0m\u001b[0m\n\u001b[0m\u001b[1;32m    606\u001b[0m         \u001b[0;32melse\u001b[0m\u001b[0;34m:\u001b[0m\u001b[0;34m\u001b[0m\u001b[0;34m\u001b[0m\u001b[0m\n\u001b[1;32m    607\u001b[0m             \u001b[0;32mif\u001b[0m \u001b[0mfirst_connect_check\u001b[0m\u001b[0;34m:\u001b[0m\u001b[0;34m\u001b[0m\u001b[0;34m\u001b[0m\u001b[0m\n",
      "\u001b[0;32m~/opt/anaconda3/lib/python3.8/site-packages/sqlalchemy/util/langhelpers.py\u001b[0m in \u001b[0;36m__exit__\u001b[0;34m(self, type_, value, traceback)\u001b[0m\n\u001b[1;32m     68\u001b[0m             \u001b[0mself\u001b[0m\u001b[0;34m.\u001b[0m\u001b[0m_exc_info\u001b[0m \u001b[0;34m=\u001b[0m \u001b[0;32mNone\u001b[0m  \u001b[0;31m# remove potential circular references\u001b[0m\u001b[0;34m\u001b[0m\u001b[0;34m\u001b[0m\u001b[0m\n\u001b[1;32m     69\u001b[0m             \u001b[0;32mif\u001b[0m \u001b[0;32mnot\u001b[0m \u001b[0mself\u001b[0m\u001b[0;34m.\u001b[0m\u001b[0mwarn_only\u001b[0m\u001b[0;34m:\u001b[0m\u001b[0;34m\u001b[0m\u001b[0;34m\u001b[0m\u001b[0m\n\u001b[0;32m---> 70\u001b[0;31m                 compat.raise_(\n\u001b[0m\u001b[1;32m     71\u001b[0m                     \u001b[0mexc_value\u001b[0m\u001b[0;34m,\u001b[0m\u001b[0;34m\u001b[0m\u001b[0;34m\u001b[0m\u001b[0m\n\u001b[1;32m     72\u001b[0m                     \u001b[0mwith_traceback\u001b[0m\u001b[0;34m=\u001b[0m\u001b[0mexc_tb\u001b[0m\u001b[0;34m,\u001b[0m\u001b[0;34m\u001b[0m\u001b[0;34m\u001b[0m\u001b[0m\n",
      "\u001b[0;32m~/opt/anaconda3/lib/python3.8/site-packages/sqlalchemy/util/compat.py\u001b[0m in \u001b[0;36mraise_\u001b[0;34m(***failed resolving arguments***)\u001b[0m\n\u001b[1;32m    209\u001b[0m \u001b[0;34m\u001b[0m\u001b[0m\n\u001b[1;32m    210\u001b[0m         \u001b[0;32mtry\u001b[0m\u001b[0;34m:\u001b[0m\u001b[0;34m\u001b[0m\u001b[0;34m\u001b[0m\u001b[0m\n\u001b[0;32m--> 211\u001b[0;31m             \u001b[0;32mraise\u001b[0m \u001b[0mexception\u001b[0m\u001b[0;34m\u001b[0m\u001b[0;34m\u001b[0m\u001b[0m\n\u001b[0m\u001b[1;32m    212\u001b[0m         \u001b[0;32mfinally\u001b[0m\u001b[0;34m:\u001b[0m\u001b[0;34m\u001b[0m\u001b[0;34m\u001b[0m\u001b[0m\n\u001b[1;32m    213\u001b[0m             \u001b[0;31m# credit to\u001b[0m\u001b[0;34m\u001b[0m\u001b[0;34m\u001b[0m\u001b[0;34m\u001b[0m\u001b[0m\n",
      "\u001b[0;32m~/opt/anaconda3/lib/python3.8/site-packages/sqlalchemy/pool/base.py\u001b[0m in \u001b[0;36m__connect\u001b[0;34m(self, first_connect_check)\u001b[0m\n\u001b[1;32m    597\u001b[0m         \u001b[0;32mtry\u001b[0m\u001b[0;34m:\u001b[0m\u001b[0;34m\u001b[0m\u001b[0;34m\u001b[0m\u001b[0m\n\u001b[1;32m    598\u001b[0m             \u001b[0mself\u001b[0m\u001b[0;34m.\u001b[0m\u001b[0mstarttime\u001b[0m \u001b[0;34m=\u001b[0m \u001b[0mtime\u001b[0m\u001b[0;34m.\u001b[0m\u001b[0mtime\u001b[0m\u001b[0;34m(\u001b[0m\u001b[0;34m)\u001b[0m\u001b[0;34m\u001b[0m\u001b[0;34m\u001b[0m\u001b[0m\n\u001b[0;32m--> 599\u001b[0;31m             \u001b[0mconnection\u001b[0m \u001b[0;34m=\u001b[0m \u001b[0mpool\u001b[0m\u001b[0;34m.\u001b[0m\u001b[0m_invoke_creator\u001b[0m\u001b[0;34m(\u001b[0m\u001b[0mself\u001b[0m\u001b[0;34m)\u001b[0m\u001b[0;34m\u001b[0m\u001b[0;34m\u001b[0m\u001b[0m\n\u001b[0m\u001b[1;32m    600\u001b[0m             \u001b[0mpool\u001b[0m\u001b[0;34m.\u001b[0m\u001b[0mlogger\u001b[0m\u001b[0;34m.\u001b[0m\u001b[0mdebug\u001b[0m\u001b[0;34m(\u001b[0m\u001b[0;34m\"Created new connection %r\"\u001b[0m\u001b[0;34m,\u001b[0m \u001b[0mconnection\u001b[0m\u001b[0;34m)\u001b[0m\u001b[0;34m\u001b[0m\u001b[0;34m\u001b[0m\u001b[0m\n\u001b[1;32m    601\u001b[0m             \u001b[0mself\u001b[0m\u001b[0;34m.\u001b[0m\u001b[0mconnection\u001b[0m \u001b[0;34m=\u001b[0m \u001b[0mconnection\u001b[0m\u001b[0;34m\u001b[0m\u001b[0;34m\u001b[0m\u001b[0m\n",
      "\u001b[0;32m~/opt/anaconda3/lib/python3.8/site-packages/sqlalchemy/engine/create.py\u001b[0m in \u001b[0;36mconnect\u001b[0;34m(connection_record)\u001b[0m\n\u001b[1;32m    576\u001b[0m                     \u001b[0;32mif\u001b[0m \u001b[0mconnection\u001b[0m \u001b[0;32mis\u001b[0m \u001b[0;32mnot\u001b[0m \u001b[0;32mNone\u001b[0m\u001b[0;34m:\u001b[0m\u001b[0;34m\u001b[0m\u001b[0;34m\u001b[0m\u001b[0m\n\u001b[1;32m    577\u001b[0m                         \u001b[0;32mreturn\u001b[0m \u001b[0mconnection\u001b[0m\u001b[0;34m\u001b[0m\u001b[0;34m\u001b[0m\u001b[0m\n\u001b[0;32m--> 578\u001b[0;31m             \u001b[0;32mreturn\u001b[0m \u001b[0mdialect\u001b[0m\u001b[0;34m.\u001b[0m\u001b[0mconnect\u001b[0m\u001b[0;34m(\u001b[0m\u001b[0;34m*\u001b[0m\u001b[0mcargs\u001b[0m\u001b[0;34m,\u001b[0m \u001b[0;34m**\u001b[0m\u001b[0mcparams\u001b[0m\u001b[0;34m)\u001b[0m\u001b[0;34m\u001b[0m\u001b[0;34m\u001b[0m\u001b[0m\n\u001b[0m\u001b[1;32m    579\u001b[0m \u001b[0;34m\u001b[0m\u001b[0m\n\u001b[1;32m    580\u001b[0m         \u001b[0mcreator\u001b[0m \u001b[0;34m=\u001b[0m \u001b[0mpop_kwarg\u001b[0m\u001b[0;34m(\u001b[0m\u001b[0;34m\"creator\"\u001b[0m\u001b[0;34m,\u001b[0m \u001b[0mconnect\u001b[0m\u001b[0;34m)\u001b[0m\u001b[0;34m\u001b[0m\u001b[0;34m\u001b[0m\u001b[0m\n",
      "\u001b[0;32m~/opt/anaconda3/lib/python3.8/site-packages/sqlalchemy/engine/default.py\u001b[0m in \u001b[0;36mconnect\u001b[0;34m(self, *cargs, **cparams)\u001b[0m\n\u001b[1;32m    557\u001b[0m     \u001b[0;32mdef\u001b[0m \u001b[0mconnect\u001b[0m\u001b[0;34m(\u001b[0m\u001b[0mself\u001b[0m\u001b[0;34m,\u001b[0m \u001b[0;34m*\u001b[0m\u001b[0mcargs\u001b[0m\u001b[0;34m,\u001b[0m \u001b[0;34m**\u001b[0m\u001b[0mcparams\u001b[0m\u001b[0;34m)\u001b[0m\u001b[0;34m:\u001b[0m\u001b[0;34m\u001b[0m\u001b[0;34m\u001b[0m\u001b[0m\n\u001b[1;32m    558\u001b[0m         \u001b[0;31m# inherits the docstring from interfaces.Dialect.connect\u001b[0m\u001b[0;34m\u001b[0m\u001b[0;34m\u001b[0m\u001b[0;34m\u001b[0m\u001b[0m\n\u001b[0;32m--> 559\u001b[0;31m         \u001b[0;32mreturn\u001b[0m \u001b[0mself\u001b[0m\u001b[0;34m.\u001b[0m\u001b[0mdbapi\u001b[0m\u001b[0;34m.\u001b[0m\u001b[0mconnect\u001b[0m\u001b[0;34m(\u001b[0m\u001b[0;34m*\u001b[0m\u001b[0mcargs\u001b[0m\u001b[0;34m,\u001b[0m \u001b[0;34m**\u001b[0m\u001b[0mcparams\u001b[0m\u001b[0;34m)\u001b[0m\u001b[0;34m\u001b[0m\u001b[0;34m\u001b[0m\u001b[0m\n\u001b[0m\u001b[1;32m    560\u001b[0m \u001b[0;34m\u001b[0m\u001b[0m\n\u001b[1;32m    561\u001b[0m     \u001b[0;32mdef\u001b[0m \u001b[0mcreate_connect_args\u001b[0m\u001b[0;34m(\u001b[0m\u001b[0mself\u001b[0m\u001b[0;34m,\u001b[0m \u001b[0murl\u001b[0m\u001b[0;34m)\u001b[0m\u001b[0;34m:\u001b[0m\u001b[0;34m\u001b[0m\u001b[0;34m\u001b[0m\u001b[0m\n",
      "\u001b[0;32m~/opt/anaconda3/lib/python3.8/site-packages/psycopg2/__init__.py\u001b[0m in \u001b[0;36mconnect\u001b[0;34m(dsn, connection_factory, cursor_factory, **kwargs)\u001b[0m\n\u001b[1;32m    120\u001b[0m \u001b[0;34m\u001b[0m\u001b[0m\n\u001b[1;32m    121\u001b[0m     \u001b[0mdsn\u001b[0m \u001b[0;34m=\u001b[0m \u001b[0m_ext\u001b[0m\u001b[0;34m.\u001b[0m\u001b[0mmake_dsn\u001b[0m\u001b[0;34m(\u001b[0m\u001b[0mdsn\u001b[0m\u001b[0;34m,\u001b[0m \u001b[0;34m**\u001b[0m\u001b[0mkwargs\u001b[0m\u001b[0;34m)\u001b[0m\u001b[0;34m\u001b[0m\u001b[0;34m\u001b[0m\u001b[0m\n\u001b[0;32m--> 122\u001b[0;31m     \u001b[0mconn\u001b[0m \u001b[0;34m=\u001b[0m \u001b[0m_connect\u001b[0m\u001b[0;34m(\u001b[0m\u001b[0mdsn\u001b[0m\u001b[0;34m,\u001b[0m \u001b[0mconnection_factory\u001b[0m\u001b[0;34m=\u001b[0m\u001b[0mconnection_factory\u001b[0m\u001b[0;34m,\u001b[0m \u001b[0;34m**\u001b[0m\u001b[0mkwasync\u001b[0m\u001b[0;34m)\u001b[0m\u001b[0;34m\u001b[0m\u001b[0;34m\u001b[0m\u001b[0m\n\u001b[0m\u001b[1;32m    123\u001b[0m     \u001b[0;32mif\u001b[0m \u001b[0mcursor_factory\u001b[0m \u001b[0;32mis\u001b[0m \u001b[0;32mnot\u001b[0m \u001b[0;32mNone\u001b[0m\u001b[0;34m:\u001b[0m\u001b[0;34m\u001b[0m\u001b[0;34m\u001b[0m\u001b[0m\n\u001b[1;32m    124\u001b[0m         \u001b[0mconn\u001b[0m\u001b[0;34m.\u001b[0m\u001b[0mcursor_factory\u001b[0m \u001b[0;34m=\u001b[0m \u001b[0mcursor_factory\u001b[0m\u001b[0;34m\u001b[0m\u001b[0;34m\u001b[0m\u001b[0m\n",
      "\u001b[0;31mOperationalError\u001b[0m: (psycopg2.OperationalError) connection to server at \"localhost\" (::1), port 5432 failed: Connection refused\n\tIs the server running on that host and accepting TCP/IP connections?\nconnection to server at \"localhost\" (127.0.0.1), port 5432 failed: Connection refused\n\tIs the server running on that host and accepting TCP/IP connections?\n\n(Background on this error at: http://sqlalche.me/e/14/e3q8)"
     ]
    }
   ],
   "source": [
    "from sqlalchemy import create_engine\n",
    "\n",
    "engine = create_engine(f'postgresql://localhost:5432/iaapi')\n",
    "\n",
    "connection = engine.connect()\n",
    "\n",
    "sales.to_sql('cash_sales_data', connection, if_exists='replace', index=False, chunksize=10)"
   ]
  },
  {
   "cell_type": "code",
   "execution_count": null,
   "id": "92469594",
   "metadata": {},
   "outputs": [],
   "source": []
  },
  {
   "cell_type": "code",
   "execution_count": null,
   "id": "d7158ade",
   "metadata": {},
   "outputs": [],
   "source": [
    "import psycopg2 #import the postgres library\n",
    "from datetime import datetime\n",
    "\n",
    "# Create while loop to keep running: \n",
    "# while True:\n",
    "\n",
    "#connect to the database\n",
    "conn = psycopg2.connect(host='127.0.0.1',\n",
    "                       dbname='iaapi',\n",
    "                       user='haziqnaeem',\n",
    "#                        password='****',\n",
    "                       port='5432')  \n",
    "#create a cursor object \n",
    "#cursor object is used to interact with the database\n",
    "cur = conn.cursor()\n",
    "\n",
    "#create table with same headers as csv file\n",
    "for j, i in df[[list_of_columns]].iterrows():\n",
    "     cur.execute(\"\"\"\n",
    "     INSERT INTO table (column_name, column_name, column_name)\n",
    "     VALUES (%s, %s, %s);\n",
    "     \"\"\",\n",
    "     (i[column_1], i[column_2], i[column_3])) # insert the table that we want from the csv\n",
    "\n",
    "\n",
    "#Commit Changes\n",
    "conn.commit()\n",
    "#Close connection\n",
    "conn.close()\n",
    "    \n",
    "    \n",
    "# # add a sleep function: \n",
    "# if datetime.now() % 3600 == 0:\n",
    "#     # run SQL querry\n",
    "# # else:\n",
    "#     # Pass\n",
    "\n"
   ]
  }
 ],
 "metadata": {
  "kernelspec": {
   "display_name": "Python 3 (ipykernel)",
   "language": "python",
   "name": "python3"
  },
  "language_info": {
   "codemirror_mode": {
    "name": "ipython",
    "version": 3
   },
   "file_extension": ".py",
   "mimetype": "text/x-python",
   "name": "python",
   "nbconvert_exporter": "python",
   "pygments_lexer": "ipython3",
   "version": "3.8.8"
  }
 },
 "nbformat": 4,
 "nbformat_minor": 5
}
